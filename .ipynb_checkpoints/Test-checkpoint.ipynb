{
 "cells": [
  {
   "cell_type": "code",
   "execution_count": 48,
   "metadata": {},
   "outputs": [],
   "source": [
    "from Wrapper.Moduel.M_GetStockData import GetStockData\n",
    "from Wrapper.Moduel.M_YFDataMani import YFDataManipulation\n",
    "import pandas as pd"
   ]
  },
  {
   "cell_type": "code",
   "execution_count": 49,
   "metadata": {},
   "outputs": [],
   "source": [
    "ticker_list = pd.read_csv('Data/chinese_ticker_list.csv')\n",
    "ticker_list = list(ticker_list.iloc[:,0])\n"
   ]
  },
  {
   "cell_type": "code",
   "execution_count": 50,
   "metadata": {},
   "outputs": [],
   "source": [
    "obj = GetStockData(ticker_list)"
   ]
  },
  {
   "cell_type": "code",
   "execution_count": 51,
   "metadata": {},
   "outputs": [
    {
     "name": "stdout",
     "output_type": "stream",
     "text": [
      "[***                    7%                       ]  6 of 86 downloaded"
     ]
    },
    {
     "name": "stderr",
     "output_type": "stream",
     "text": [
      "Exception in thread Thread-183:\n",
      "Traceback (most recent call last):\n",
      "  File \"C:\\Anaconda3\\lib\\threading.py\", line 916, in _bootstrap_inner\n",
      "    self.run()\n",
      "  File \"C:\\Anaconda3\\lib\\threading.py\", line 864, in run\n",
      "    self._target(*self._args, **self._kwargs)\n",
      "  File \"C:\\Anaconda3\\lib\\site-packages\\multitasking\\__init__.py\", line 102, in _run_via_pool\n",
      "    return callee(*args, **kwargs)\n",
      "  File \"C:\\Anaconda3\\lib\\site-packages\\yfinance\\__init__.py\", line 470, in _download_one_threaded\n",
      "    period, interval, prepost, proxy)\n",
      "  File \"C:\\Anaconda3\\lib\\site-packages\\yfinance\\__init__.py\", line 483, in _download_one\n",
      "    proxy=proxy)\n",
      "  File \"C:\\Anaconda3\\lib\\site-packages\\yfinance\\__init__.py\", line 304, in history\n",
      "    raise ValueError(self.ticker, err_msg)\n",
      "ValueError: ('688139.SZ', 'No data found, symbol may be delisted')\n",
      "\n",
      "Exception in thread Thread-186:\n",
      "Traceback (most recent call last):\n",
      "  File \"C:\\Anaconda3\\lib\\threading.py\", line 916, in _bootstrap_inner\n",
      "    self.run()\n",
      "  File \"C:\\Anaconda3\\lib\\threading.py\", line 864, in run\n",
      "    self._target(*self._args, **self._kwargs)\n",
      "  File \"C:\\Anaconda3\\lib\\site-packages\\multitasking\\__init__.py\", line 102, in _run_via_pool\n",
      "    return callee(*args, **kwargs)\n",
      "  File \"C:\\Anaconda3\\lib\\site-packages\\yfinance\\__init__.py\", line 470, in _download_one_threaded\n",
      "    period, interval, prepost, proxy)\n",
      "  File \"C:\\Anaconda3\\lib\\site-packages\\yfinance\\__init__.py\", line 483, in _download_one\n",
      "    proxy=proxy)\n",
      "  File \"C:\\Anaconda3\\lib\\site-packages\\yfinance\\__init__.py\", line 304, in history\n",
      "    raise ValueError(self.ticker, err_msg)\n",
      "ValueError: ('688068.SZ', 'No data found, symbol may be delisted')\n",
      "\n"
     ]
    },
    {
     "name": "stdout",
     "output_type": "stream",
     "text": [
      "[****                   9%                       ]  8 of 86 downloaded"
     ]
    },
    {
     "name": "stderr",
     "output_type": "stream",
     "text": [
      "Exception in thread Thread-188:\n",
      "Traceback (most recent call last):\n",
      "  File \"C:\\Anaconda3\\lib\\threading.py\", line 916, in _bootstrap_inner\n",
      "    self.run()\n",
      "  File \"C:\\Anaconda3\\lib\\threading.py\", line 864, in run\n",
      "    self._target(*self._args, **self._kwargs)\n",
      "  File \"C:\\Anaconda3\\lib\\site-packages\\multitasking\\__init__.py\", line 102, in _run_via_pool\n",
      "    return callee(*args, **kwargs)\n",
      "  File \"C:\\Anaconda3\\lib\\site-packages\\yfinance\\__init__.py\", line 470, in _download_one_threaded\n",
      "    period, interval, prepost, proxy)\n",
      "  File \"C:\\Anaconda3\\lib\\site-packages\\yfinance\\__init__.py\", line 483, in _download_one\n",
      "    proxy=proxy)\n",
      "  File \"C:\\Anaconda3\\lib\\site-packages\\yfinance\\__init__.py\", line 304, in history\n",
      "    raise ValueError(self.ticker, err_msg)\n",
      "ValueError: ('600587.SZ', 'No data found, symbol may be delisted')\n",
      "\n",
      "Exception in thread Thread-190:\n",
      "Traceback (most recent call last):\n",
      "  File \"C:\\Anaconda3\\lib\\threading.py\", line 916, in _bootstrap_inner\n",
      "    self.run()\n",
      "  File \"C:\\Anaconda3\\lib\\threading.py\", line 864, in run\n",
      "    self._target(*self._args, **self._kwargs)\n",
      "  File \"C:\\Anaconda3\\lib\\site-packages\\multitasking\\__init__.py\", line 102, in _run_via_pool\n",
      "    return callee(*args, **kwargs)\n",
      "  File \"C:\\Anaconda3\\lib\\site-packages\\yfinance\\__init__.py\", line 470, in _download_one_threaded\n",
      "    period, interval, prepost, proxy)\n",
      "  File \"C:\\Anaconda3\\lib\\site-packages\\yfinance\\__init__.py\", line 483, in _download_one\n",
      "    proxy=proxy)\n",
      "  File \"C:\\Anaconda3\\lib\\site-packages\\yfinance\\__init__.py\", line 304, in history\n",
      "    raise ValueError(self.ticker, err_msg)\n",
      "ValueError: ('688016.SZ', 'No data found, symbol may be delisted')\n",
      "\n",
      "Exception in thread Thread-189:\n",
      "Traceback (most recent call last):\n",
      "  File \"C:\\Anaconda3\\lib\\threading.py\", line 916, in _bootstrap_inner\n",
      "    self.run()\n",
      "  File \"C:\\Anaconda3\\lib\\threading.py\", line 864, in run\n",
      "    self._target(*self._args, **self._kwargs)\n",
      "  File \"C:\\Anaconda3\\lib\\site-packages\\multitasking\\__init__.py\", line 102, in _run_via_pool\n",
      "    return callee(*args, **kwargs)\n",
      "  File \"C:\\Anaconda3\\lib\\site-packages\\yfinance\\__init__.py\", line 470, in _download_one_threaded\n",
      "    period, interval, prepost, proxy)\n",
      "  File \"C:\\Anaconda3\\lib\\site-packages\\yfinance\\__init__.py\", line 483, in _download_one\n",
      "    proxy=proxy)\n",
      "  File \"C:\\Anaconda3\\lib\\site-packages\\yfinance\\__init__.py\", line 304, in history\n",
      "    raise ValueError(self.ticker, err_msg)\n",
      "ValueError: ('688108.SZ', 'No data found, symbol may be delisted')\n",
      "\n",
      "Exception in thread Thread-187:\n",
      "Traceback (most recent call last):\n",
      "  File \"C:\\Anaconda3\\lib\\threading.py\", line 916, in _bootstrap_inner\n",
      "    self.run()\n",
      "  File \"C:\\Anaconda3\\lib\\threading.py\", line 864, in run\n",
      "    self._target(*self._args, **self._kwargs)\n",
      "  File \"C:\\Anaconda3\\lib\\site-packages\\multitasking\\__init__.py\", line 102, in _run_via_pool\n",
      "    return callee(*args, **kwargs)\n",
      "  File \"C:\\Anaconda3\\lib\\site-packages\\yfinance\\__init__.py\", line 470, in _download_one_threaded\n",
      "    period, interval, prepost, proxy)\n",
      "  File \"C:\\Anaconda3\\lib\\site-packages\\yfinance\\__init__.py\", line 483, in _download_one\n",
      "    proxy=proxy)\n",
      "  File \"C:\\Anaconda3\\lib\\site-packages\\yfinance\\__init__.py\", line 304, in history\n",
      "    raise ValueError(self.ticker, err_msg)\n",
      "ValueError: ('603259.SZ', 'No data found, symbol may be delisted')\n",
      "\n",
      "Exception in thread Thread-194:\n",
      "Traceback (most recent call last):\n",
      "  File \"C:\\Anaconda3\\lib\\threading.py\", line 916, in _bootstrap_inner\n",
      "    self.run()\n",
      "  File \"C:\\Anaconda3\\lib\\threading.py\", line 864, in run\n",
      "    self._target(*self._args, **self._kwargs)\n",
      "  File \"C:\\Anaconda3\\lib\\site-packages\\multitasking\\__init__.py\", line 102, in _run_via_pool\n",
      "    return callee(*args, **kwargs)\n",
      "  File \"C:\\Anaconda3\\lib\\site-packages\\yfinance\\__init__.py\", line 470, in _download_one_threaded\n",
      "    period, interval, prepost, proxy)\n",
      "  File \"C:\\Anaconda3\\lib\\site-packages\\yfinance\\__init__.py\", line 483, in _download_one\n",
      "    proxy=proxy)\n",
      "  File \"C:\\Anaconda3\\lib\\site-packages\\yfinance\\__init__.py\", line 304, in history\n",
      "    raise ValueError(self.ticker, err_msg)\n",
      "ValueError: ('603880.SZ', 'No data found, symbol may be delisted')\n",
      "\n",
      "Exception in thread Thread-195:\n",
      "Traceback (most recent call last):\n",
      "  File \"C:\\Anaconda3\\lib\\threading.py\", line 916, in _bootstrap_inner\n",
      "    self.run()\n",
      "  File \"C:\\Anaconda3\\lib\\threading.py\", line 864, in run\n",
      "    self._target(*self._args, **self._kwargs)\n",
      "  File \"C:\\Anaconda3\\lib\\site-packages\\multitasking\\__init__.py\", line 102, in _run_via_pool\n",
      "    return callee(*args, **kwargs)\n",
      "  File \"C:\\Anaconda3\\lib\\site-packages\\yfinance\\__init__.py\", line 470, in _download_one_threaded\n",
      "    period, interval, prepost, proxy)\n",
      "  File \"C:\\Anaconda3\\lib\\site-packages\\yfinance\\__init__.py\", line 483, in _download_one\n",
      "    proxy=proxy)\n",
      "  File \"C:\\Anaconda3\\lib\\site-packages\\yfinance\\__init__.py\", line 304, in history\n",
      "    raise ValueError(self.ticker, err_msg)\n",
      "ValueError: ('603309.SZ', 'No data found, symbol may be delisted')\n",
      "\n",
      "Exception in thread Thread-193:\n",
      "Traceback (most recent call last):\n",
      "  File \"C:\\Anaconda3\\lib\\threading.py\", line 916, in _bootstrap_inner\n",
      "    self.run()\n",
      "  File \"C:\\Anaconda3\\lib\\threading.py\", line 864, in run\n",
      "    self._target(*self._args, **self._kwargs)\n",
      "  File \"C:\\Anaconda3\\lib\\site-packages\\multitasking\\__init__.py\", line 102, in _run_via_pool\n",
      "    return callee(*args, **kwargs)\n",
      "  File \"C:\\Anaconda3\\lib\\site-packages\\yfinance\\__init__.py\", line 470, in _download_one_threaded\n",
      "    period, interval, prepost, proxy)\n",
      "  File \"C:\\Anaconda3\\lib\\site-packages\\yfinance\\__init__.py\", line 483, in _download_one\n",
      "    proxy=proxy)\n",
      "  File \"C:\\Anaconda3\\lib\\site-packages\\yfinance\\__init__.py\", line 304, in history\n",
      "    raise ValueError(self.ticker, err_msg)\n",
      "ValueError: ('603127.SZ', 'No data found, symbol may be delisted')\n",
      "\n"
     ]
    },
    {
     "name": "stdout",
     "output_type": "stream",
     "text": [
      "[*******               14%                       ]  12 of 86 downloaded"
     ]
    },
    {
     "name": "stderr",
     "output_type": "stream",
     "text": [
      "Exception in thread Thread-199:\n",
      "Traceback (most recent call last):\n",
      "  File \"C:\\Anaconda3\\lib\\threading.py\", line 916, in _bootstrap_inner\n",
      "    self.run()\n",
      "  File \"C:\\Anaconda3\\lib\\threading.py\", line 864, in run\n",
      "    self._target(*self._args, **self._kwargs)\n",
      "  File \"C:\\Anaconda3\\lib\\site-packages\\multitasking\\__init__.py\", line 102, in _run_via_pool\n",
      "    return callee(*args, **kwargs)\n",
      "  File \"C:\\Anaconda3\\lib\\site-packages\\yfinance\\__init__.py\", line 470, in _download_one_threaded\n",
      "    period, interval, prepost, proxy)\n",
      "  File \"C:\\Anaconda3\\lib\\site-packages\\yfinance\\__init__.py\", line 483, in _download_one\n",
      "    proxy=proxy)\n",
      "  File \"C:\\Anaconda3\\lib\\site-packages\\yfinance\\__init__.py\", line 304, in history\n",
      "    raise ValueError(self.ticker, err_msg)\n",
      "ValueError: ('688310.SZ', 'No data found, symbol may be delisted')\n",
      "\n",
      "Exception in thread Thread-202:\n",
      "Traceback (most recent call last):\n",
      "  File \"C:\\Anaconda3\\lib\\threading.py\", line 916, in _bootstrap_inner\n",
      "    self.run()\n",
      "  File \"C:\\Anaconda3\\lib\\threading.py\", line 864, in run\n",
      "    self._target(*self._args, **self._kwargs)\n",
      "  File \"C:\\Anaconda3\\lib\\site-packages\\multitasking\\__init__.py\", line 102, in _run_via_pool\n",
      "    return callee(*args, **kwargs)\n",
      "  File \"C:\\Anaconda3\\lib\\site-packages\\yfinance\\__init__.py\", line 470, in _download_one_threaded\n",
      "    period, interval, prepost, proxy)\n",
      "  File \"C:\\Anaconda3\\lib\\site-packages\\yfinance\\__init__.py\", line 483, in _download_one\n",
      "    proxy=proxy)\n",
      "  File \"C:\\Anaconda3\\lib\\site-packages\\yfinance\\__init__.py\", line 304, in history\n",
      "    raise ValueError(self.ticker, err_msg)\n",
      "ValueError: ('603987.SZ', 'No data found, symbol may be delisted')\n",
      "\n"
     ]
    },
    {
     "name": "stdout",
     "output_type": "stream",
     "text": [
      "[*********             19%                       ]  16 of 86 downloaded"
     ]
    },
    {
     "name": "stderr",
     "output_type": "stream",
     "text": [
      "Exception in thread Thread-205:\n",
      "Traceback (most recent call last):\n",
      "  File \"C:\\Anaconda3\\lib\\threading.py\", line 916, in _bootstrap_inner\n",
      "    self.run()\n",
      "  File \"C:\\Anaconda3\\lib\\threading.py\", line 864, in run\n",
      "    self._target(*self._args, **self._kwargs)\n",
      "  File \"C:\\Anaconda3\\lib\\site-packages\\multitasking\\__init__.py\", line 102, in _run_via_pool\n",
      "    return callee(*args, **kwargs)\n",
      "  File \"C:\\Anaconda3\\lib\\site-packages\\yfinance\\__init__.py\", line 470, in _download_one_threaded\n",
      "    period, interval, prepost, proxy)\n",
      "  File \"C:\\Anaconda3\\lib\\site-packages\\yfinance\\__init__.py\", line 483, in _download_one\n",
      "    proxy=proxy)\n",
      "  File \"C:\\Anaconda3\\lib\\site-packages\\yfinance\\__init__.py\", line 304, in history\n",
      "    raise ValueError(self.ticker, err_msg)\n",
      "ValueError: ('688202.SZ', 'No data found, symbol may be delisted')\n",
      "\n",
      "Exception in thread Thread-209:\n",
      "Traceback (most recent call last):\n",
      "  File \"C:\\Anaconda3\\lib\\threading.py\", line 916, in _bootstrap_inner\n",
      "    self.run()\n",
      "  File \"C:\\Anaconda3\\lib\\threading.py\", line 864, in run\n",
      "    self._target(*self._args, **self._kwargs)\n",
      "  File \"C:\\Anaconda3\\lib\\site-packages\\multitasking\\__init__.py\", line 102, in _run_via_pool\n",
      "    return callee(*args, **kwargs)\n",
      "  File \"C:\\Anaconda3\\lib\\site-packages\\yfinance\\__init__.py\", line 470, in _download_one_threaded\n",
      "    period, interval, prepost, proxy)\n",
      "  File \"C:\\Anaconda3\\lib\\site-packages\\yfinance\\__init__.py\", line 483, in _download_one\n",
      "    proxy=proxy)\n",
      "  File \"C:\\Anaconda3\\lib\\site-packages\\yfinance\\__init__.py\", line 304, in history\n",
      "    raise ValueError(self.ticker, err_msg)\n",
      "ValueError: ('603658.SZ', 'No data found, symbol may be delisted')\n",
      "\n",
      "Exception in thread Thread-210:\n",
      "Traceback (most recent call last):\n",
      "  File \"C:\\Anaconda3\\lib\\threading.py\", line 916, in _bootstrap_inner\n",
      "    self.run()\n",
      "  File \"C:\\Anaconda3\\lib\\threading.py\", line 864, in run\n",
      "    self._target(*self._args, **self._kwargs)\n",
      "  File \"C:\\Anaconda3\\lib\\site-packages\\multitasking\\__init__.py\", line 102, in _run_via_pool\n",
      "    return callee(*args, **kwargs)\n",
      "  File \"C:\\Anaconda3\\lib\\site-packages\\yfinance\\__init__.py\", line 470, in _download_one_threaded\n",
      "    period, interval, prepost, proxy)\n",
      "  File \"C:\\Anaconda3\\lib\\site-packages\\yfinance\\__init__.py\", line 483, in _download_one\n",
      "    proxy=proxy)\n",
      "  File \"C:\\Anaconda3\\lib\\site-packages\\yfinance\\__init__.py\", line 304, in history\n",
      "    raise ValueError(self.ticker, err_msg)\n",
      "ValueError: ('603387.SZ', 'No data found, symbol may be delisted')\n",
      "\n",
      "Exception in thread Thread-213:\n",
      "Traceback (most recent call last):\n",
      "  File \"C:\\Anaconda3\\lib\\threading.py\", line 916, in _bootstrap_inner\n",
      "    self.run()\n",
      "  File \"C:\\Anaconda3\\lib\\threading.py\", line 864, in run\n",
      "    self._target(*self._args, **self._kwargs)\n",
      "  File \"C:\\Anaconda3\\lib\\site-packages\\multitasking\\__init__.py\", line 102, in _run_via_pool\n",
      "    return callee(*args, **kwargs)\n",
      "  File \"C:\\Anaconda3\\lib\\site-packages\\yfinance\\__init__.py\", line 470, in _download_one_threaded\n",
      "    period, interval, prepost, proxy)\n",
      "  File \"C:\\Anaconda3\\lib\\site-packages\\yfinance\\__init__.py\", line 483, in _download_one\n",
      "    proxy=proxy)\n",
      "  File \"C:\\Anaconda3\\lib\\site-packages\\yfinance\\__init__.py\", line 304, in history\n",
      "    raise ValueError(self.ticker, err_msg)\n",
      "ValueError: ('603976.SZ', 'No data found, symbol may be delisted')\n",
      "\n"
     ]
    },
    {
     "name": "stdout",
     "output_type": "stream",
     "text": [
      "[*************         27%                       ]  23 of 86 downloaded"
     ]
    },
    {
     "name": "stderr",
     "output_type": "stream",
     "text": [
      "Exception in thread Thread-219:\n",
      "Traceback (most recent call last):\n",
      "  File \"C:\\Anaconda3\\lib\\threading.py\", line 916, in _bootstrap_inner\n",
      "    self.run()\n",
      "  File \"C:\\Anaconda3\\lib\\threading.py\", line 864, in run\n",
      "    self._target(*self._args, **self._kwargs)\n",
      "  File \"C:\\Anaconda3\\lib\\site-packages\\multitasking\\__init__.py\", line 102, in _run_via_pool\n",
      "    return callee(*args, **kwargs)\n",
      "  File \"C:\\Anaconda3\\lib\\site-packages\\yfinance\\__init__.py\", line 470, in _download_one_threaded\n",
      "    period, interval, prepost, proxy)\n",
      "  File \"C:\\Anaconda3\\lib\\site-packages\\yfinance\\__init__.py\", line 483, in _download_one\n",
      "    proxy=proxy)\n",
      "  File \"C:\\Anaconda3\\lib\\site-packages\\yfinance\\__init__.py\", line 304, in history\n",
      "    raise ValueError(self.ticker, err_msg)\n",
      "ValueError: ('688029.SZ', 'No data found, symbol may be delisted')\n",
      "\n",
      "Exception in thread Thread-221:\n",
      "Traceback (most recent call last):\n",
      "  File \"C:\\Anaconda3\\lib\\threading.py\", line 916, in _bootstrap_inner\n",
      "    self.run()\n",
      "  File \"C:\\Anaconda3\\lib\\threading.py\", line 864, in run\n",
      "    self._target(*self._args, **self._kwargs)\n",
      "  File \"C:\\Anaconda3\\lib\\site-packages\\multitasking\\__init__.py\", line 102, in _run_via_pool\n",
      "    return callee(*args, **kwargs)\n",
      "  File \"C:\\Anaconda3\\lib\\site-packages\\yfinance\\__init__.py\", line 470, in _download_one_threaded\n",
      "    period, interval, prepost, proxy)\n",
      "  File \"C:\\Anaconda3\\lib\\site-packages\\yfinance\\__init__.py\", line 483, in _download_one\n",
      "    proxy=proxy)\n",
      "  File \"C:\\Anaconda3\\lib\\site-packages\\yfinance\\__init__.py\", line 304, in history\n",
      "    raise ValueError(self.ticker, err_msg)\n",
      "ValueError: ('600896.SZ', 'No data found, symbol may be delisted')\n",
      "\n"
     ]
    },
    {
     "name": "stdout",
     "output_type": "stream",
     "text": [
      "[*****************     36%                       ]  31 of 86 downloaded"
     ]
    },
    {
     "name": "stderr",
     "output_type": "stream",
     "text": [
      "Exception in thread Thread-224:\n",
      "Traceback (most recent call last):\n",
      "  File \"C:\\Anaconda3\\lib\\threading.py\", line 916, in _bootstrap_inner\n",
      "    self.run()\n",
      "  File \"C:\\Anaconda3\\lib\\threading.py\", line 864, in run\n",
      "    self._target(*self._args, **self._kwargs)\n",
      "  File \"C:\\Anaconda3\\lib\\site-packages\\multitasking\\__init__.py\", line 102, in _run_via_pool\n",
      "    return callee(*args, **kwargs)\n",
      "  File \"C:\\Anaconda3\\lib\\site-packages\\yfinance\\__init__.py\", line 470, in _download_one_threaded\n",
      "    period, interval, prepost, proxy)\n",
      "  File \"C:\\Anaconda3\\lib\\site-packages\\yfinance\\__init__.py\", line 483, in _download_one\n",
      "    proxy=proxy)\n",
      "  File \"C:\\Anaconda3\\lib\\site-packages\\yfinance\\__init__.py\", line 304, in history\n",
      "    raise ValueError(self.ticker, err_msg)\n",
      "ValueError: ('688358.SZ', 'No data found, symbol may be delisted')\n",
      "\n",
      "Exception in thread Thread-230:\n",
      "Traceback (most recent call last):\n",
      "  File \"C:\\Anaconda3\\lib\\threading.py\", line 916, in _bootstrap_inner\n",
      "    self.run()\n",
      "  File \"C:\\Anaconda3\\lib\\threading.py\", line 864, in run\n",
      "    self._target(*self._args, **self._kwargs)\n",
      "  File \"C:\\Anaconda3\\lib\\site-packages\\multitasking\\__init__.py\", line 102, in _run_via_pool\n",
      "    return callee(*args, **kwargs)\n",
      "  File \"C:\\Anaconda3\\lib\\site-packages\\yfinance\\__init__.py\", line 470, in _download_one_threaded\n",
      "    period, interval, prepost, proxy)\n",
      "  File \"C:\\Anaconda3\\lib\\site-packages\\yfinance\\__init__.py\", line 483, in _download_one\n",
      "    proxy=proxy)\n",
      "  File \"C:\\Anaconda3\\lib\\site-packages\\yfinance\\__init__.py\", line 304, in history\n",
      "    raise ValueError(self.ticker, err_msg)\n",
      "ValueError: ('600763.SZ', 'No data found, symbol may be delisted')\n",
      "\n"
     ]
    },
    {
     "name": "stdout",
     "output_type": "stream",
     "text": [
      "[********************  41%                       ]  35 of 86 downloaded"
     ]
    },
    {
     "name": "stderr",
     "output_type": "stream",
     "text": [
      "Exception in thread Thread-231:\n",
      "Traceback (most recent call last):\n",
      "  File \"C:\\Anaconda3\\lib\\threading.py\", line 916, in _bootstrap_inner\n",
      "    self.run()\n",
      "  File \"C:\\Anaconda3\\lib\\threading.py\", line 864, in run\n",
      "    self._target(*self._args, **self._kwargs)\n",
      "  File \"C:\\Anaconda3\\lib\\site-packages\\multitasking\\__init__.py\", line 102, in _run_via_pool\n",
      "    return callee(*args, **kwargs)\n",
      "  File \"C:\\Anaconda3\\lib\\site-packages\\yfinance\\__init__.py\", line 470, in _download_one_threaded\n",
      "    period, interval, prepost, proxy)\n",
      "  File \"C:\\Anaconda3\\lib\\site-packages\\yfinance\\__init__.py\", line 483, in _download_one\n",
      "    proxy=proxy)\n",
      "  File \"C:\\Anaconda3\\lib\\site-packages\\yfinance\\__init__.py\", line 304, in history\n",
      "    raise ValueError(self.ticker, err_msg)\n",
      "ValueError: ('688389.SZ', 'No data found, symbol may be delisted')\n",
      "\n",
      "Exception in thread Thread-235:\n",
      "Traceback (most recent call last):\n",
      "  File \"C:\\Anaconda3\\lib\\threading.py\", line 916, in _bootstrap_inner\n",
      "    self.run()\n",
      "  File \"C:\\Anaconda3\\lib\\threading.py\", line 864, in run\n",
      "    self._target(*self._args, **self._kwargs)\n",
      "  File \"C:\\Anaconda3\\lib\\site-packages\\multitasking\\__init__.py\", line 102, in _run_via_pool\n",
      "    return callee(*args, **kwargs)\n",
      "  File \"C:\\Anaconda3\\lib\\site-packages\\yfinance\\__init__.py\", line 470, in _download_one_threaded\n",
      "    period, interval, prepost, proxy)\n",
      "  File \"C:\\Anaconda3\\lib\\site-packages\\yfinance\\__init__.py\", line 483, in _download_one\n",
      "    proxy=proxy)\n",
      "  File \"C:\\Anaconda3\\lib\\site-packages\\yfinance\\__init__.py\", line 304, in history\n",
      "    raise ValueError(self.ticker, err_msg)\n",
      "ValueError: ('603108.SZ', 'No data found, symbol may be delisted')\n",
      "\n",
      "Exception in thread Thread-236:\n",
      "Traceback (most recent call last):\n",
      "  File \"C:\\Anaconda3\\lib\\threading.py\", line 916, in _bootstrap_inner\n",
      "    self.run()\n",
      "  File \"C:\\Anaconda3\\lib\\threading.py\", line 864, in run\n",
      "    self._target(*self._args, **self._kwargs)\n",
      "  File \"C:\\Anaconda3\\lib\\site-packages\\multitasking\\__init__.py\", line 102, in _run_via_pool\n",
      "    return callee(*args, **kwargs)\n",
      "  File \"C:\\Anaconda3\\lib\\site-packages\\yfinance\\__init__.py\", line 470, in _download_one_threaded\n",
      "    period, interval, prepost, proxy)\n",
      "  File \"C:\\Anaconda3\\lib\\site-packages\\yfinance\\__init__.py\", line 483, in _download_one\n",
      "    proxy=proxy)\n",
      "  File \"C:\\Anaconda3\\lib\\site-packages\\yfinance\\__init__.py\", line 304, in history\n",
      "    raise ValueError(self.ticker, err_msg)\n",
      "ValueError: ('600721.SZ', 'No data found, symbol may be delisted')\n",
      "\n"
     ]
    },
    {
     "name": "stdout",
     "output_type": "stream",
     "text": [
      "[**********************47%                       ]  40 of 86 downloaded"
     ]
    },
    {
     "name": "stderr",
     "output_type": "stream",
     "text": [
      "Exception in thread Thread-240:\n",
      "Traceback (most recent call last):\n",
      "  File \"C:\\Anaconda3\\lib\\threading.py\", line 916, in _bootstrap_inner\n",
      "    self.run()\n",
      "  File \"C:\\Anaconda3\\lib\\threading.py\", line 864, in run\n",
      "    self._target(*self._args, **self._kwargs)\n",
      "  File \"C:\\Anaconda3\\lib\\site-packages\\multitasking\\__init__.py\", line 102, in _run_via_pool\n",
      "    return callee(*args, **kwargs)\n",
      "  File \"C:\\Anaconda3\\lib\\site-packages\\yfinance\\__init__.py\", line 470, in _download_one_threaded\n",
      "    period, interval, prepost, proxy)\n",
      "  File \"C:\\Anaconda3\\lib\\site-packages\\yfinance\\__init__.py\", line 483, in _download_one\n",
      "    proxy=proxy)\n",
      "  File \"C:\\Anaconda3\\lib\\site-packages\\yfinance\\__init__.py\", line 304, in history\n",
      "    raise ValueError(self.ticker, err_msg)\n",
      "ValueError: ('603301.SZ', 'No data found, symbol may be delisted')\n",
      "\n",
      "Exception in thread Thread-246:\n",
      "Traceback (most recent call last):\n",
      "  File \"C:\\Anaconda3\\lib\\threading.py\", line 916, in _bootstrap_inner\n",
      "    self.run()\n",
      "  File \"C:\\Anaconda3\\lib\\threading.py\", line 864, in run\n",
      "    self._target(*self._args, **self._kwargs)\n",
      "  File \"C:\\Anaconda3\\lib\\site-packages\\multitasking\\__init__.py\", line 102, in _run_via_pool\n",
      "    return callee(*args, **kwargs)\n",
      "  File \"C:\\Anaconda3\\lib\\site-packages\\yfinance\\__init__.py\", line 470, in _download_one_threaded\n",
      "    period, interval, prepost, proxy)\n",
      "  File \"C:\\Anaconda3\\lib\\site-packages\\yfinance\\__init__.py\", line 483, in _download_one\n",
      "    proxy=proxy)\n",
      "  File \"C:\\Anaconda3\\lib\\site-packages\\yfinance\\__init__.py\", line 304, in history\n",
      "    raise ValueError(self.ticker, err_msg)\n",
      "ValueError: ('600529.SZ', 'No data found, symbol may be delisted')\n",
      "\n",
      "Exception in thread Thread-247:\n",
      "Traceback (most recent call last):\n",
      "  File \"C:\\Anaconda3\\lib\\threading.py\", line 916, in _bootstrap_inner\n",
      "    self.run()\n",
      "  File \"C:\\Anaconda3\\lib\\threading.py\", line 864, in run\n",
      "    self._target(*self._args, **self._kwargs)\n",
      "  File \"C:\\Anaconda3\\lib\\site-packages\\multitasking\\__init__.py\", line 102, in _run_via_pool\n",
      "    return callee(*args, **kwargs)\n",
      "  File \"C:\\Anaconda3\\lib\\site-packages\\yfinance\\__init__.py\", line 470, in _download_one_threaded\n",
      "    period, interval, prepost, proxy)\n",
      "  File \"C:\\Anaconda3\\lib\\site-packages\\yfinance\\__init__.py\", line 483, in _download_one\n",
      "    proxy=proxy)\n",
      "  File \"C:\\Anaconda3\\lib\\site-packages\\yfinance\\__init__.py\", line 304, in history\n",
      "    raise ValueError(self.ticker, err_msg)\n",
      "ValueError: ('603882.SZ', 'No data found, symbol may be delisted')\n"
     ]
    },
    {
     "name": "stdout",
     "output_type": "stream",
     "text": [
      "[**********************50%                       ]  43 of 86 downloaded"
     ]
    },
    {
     "name": "stderr",
     "output_type": "stream",
     "text": [
      "\n",
      "Exception in thread Thread-249:\n",
      "Traceback (most recent call last):\n",
      "  File \"C:\\Anaconda3\\lib\\threading.py\", line 916, in _bootstrap_inner\n",
      "    self.run()\n",
      "  File \"C:\\Anaconda3\\lib\\threading.py\", line 864, in run\n",
      "    self._target(*self._args, **self._kwargs)\n",
      "  File \"C:\\Anaconda3\\lib\\site-packages\\multitasking\\__init__.py\", line 102, in _run_via_pool\n",
      "    return callee(*args, **kwargs)\n",
      "  File \"C:\\Anaconda3\\lib\\site-packages\\yfinance\\__init__.py\", line 470, in _download_one_threaded\n",
      "    period, interval, prepost, proxy)\n",
      "  File \"C:\\Anaconda3\\lib\\site-packages\\yfinance\\__init__.py\", line 483, in _download_one\n",
      "    proxy=proxy)\n",
      "  File \"C:\\Anaconda3\\lib\\site-packages\\yfinance\\__init__.py\", line 304, in history\n",
      "    raise ValueError(self.ticker, err_msg)\n",
      "ValueError: ('600055.SZ', 'No data found, symbol may be delisted')\n",
      "\n"
     ]
    },
    {
     "name": "stdout",
     "output_type": "stream",
     "text": [
      "[**********************59%***                    ]  51 of 86 downloaded"
     ]
    },
    {
     "name": "stderr",
     "output_type": "stream",
     "text": [
      "Exception in thread Thread-254:\n",
      "Traceback (most recent call last):\n",
      "  File \"C:\\Anaconda3\\lib\\threading.py\", line 916, in _bootstrap_inner\n",
      "    self.run()\n",
      "  File \"C:\\Anaconda3\\lib\\threading.py\", line 864, in run\n",
      "    self._target(*self._args, **self._kwargs)\n",
      "  File \"C:\\Anaconda3\\lib\\site-packages\\multitasking\\__init__.py\", line 102, in _run_via_pool\n",
      "    return callee(*args, **kwargs)\n",
      "  File \"C:\\Anaconda3\\lib\\site-packages\\yfinance\\__init__.py\", line 470, in _download_one_threaded\n",
      "    period, interval, prepost, proxy)\n",
      "  File \"C:\\Anaconda3\\lib\\site-packages\\yfinance\\__init__.py\", line 483, in _download_one\n",
      "    proxy=proxy)\n",
      "  File \"C:\\Anaconda3\\lib\\site-packages\\yfinance\\__init__.py\", line 304, in history\n",
      "    raise ValueError(self.ticker, err_msg)\n",
      "ValueError: ('688366.SZ', 'No data found, symbol may be delisted')\n",
      "\n",
      "Exception in thread Thread-258:\n",
      "Traceback (most recent call last):\n",
      "  File \"C:\\Anaconda3\\lib\\threading.py\", line 916, in _bootstrap_inner\n",
      "    self.run()\n",
      "  File \"C:\\Anaconda3\\lib\\threading.py\", line 864, in run\n",
      "    self._target(*self._args, **self._kwargs)\n",
      "  File \"C:\\Anaconda3\\lib\\site-packages\\multitasking\\__init__.py\", line 102, in _run_via_pool\n",
      "    return callee(*args, **kwargs)\n",
      "  File \"C:\\Anaconda3\\lib\\site-packages\\yfinance\\__init__.py\", line 470, in _download_one_threaded\n",
      "    period, interval, prepost, proxy)\n",
      "  File \"C:\\Anaconda3\\lib\\site-packages\\yfinance\\__init__.py\", line 483, in _download_one\n",
      "    proxy=proxy)\n",
      "  File \"C:\\Anaconda3\\lib\\site-packages\\yfinance\\__init__.py\", line 304, in history\n",
      "    raise ValueError(self.ticker, err_msg)\n",
      "ValueError: ('603367.SZ', 'No data found, symbol may be delisted')\n",
      "\n"
     ]
    },
    {
     "name": "stdout",
     "output_type": "stream",
     "text": [
      "[**********************64%******                 ]  55 of 86 downloaded"
     ]
    },
    {
     "name": "stderr",
     "output_type": "stream",
     "text": [
      "Exception in thread Thread-261:\n",
      "Traceback (most recent call last):\n",
      "  File \"C:\\Anaconda3\\lib\\threading.py\", line 916, in _bootstrap_inner\n",
      "    self.run()\n",
      "  File \"C:\\Anaconda3\\lib\\threading.py\", line 864, in run\n",
      "    self._target(*self._args, **self._kwargs)\n",
      "  File \"C:\\Anaconda3\\lib\\site-packages\\multitasking\\__init__.py\", line 102, in _run_via_pool\n",
      "    return callee(*args, **kwargs)\n",
      "  File \"C:\\Anaconda3\\lib\\site-packages\\yfinance\\__init__.py\", line 470, in _download_one_threaded\n",
      "    period, interval, prepost, proxy)\n",
      "  File \"C:\\Anaconda3\\lib\\site-packages\\yfinance\\__init__.py\", line 483, in _download_one\n",
      "    proxy=proxy)\n",
      "  File \"C:\\Anaconda3\\lib\\site-packages\\yfinance\\__init__.py\", line 304, in history\n",
      "    raise ValueError(self.ticker, err_msg)\n",
      "ValueError: ('600767.SZ', 'No data found, symbol may be delisted')\n",
      "\n"
     ]
    },
    {
     "name": "stdout",
     "output_type": "stream",
     "text": [
      "[*********************100%***********************]  57 of 86 downloaded\n"
     ]
    }
   ],
   "source": [
    "df = obj.download_price()"
   ]
  },
  {
   "cell_type": "code",
   "execution_count": 52,
   "metadata": {},
   "outputs": [],
   "source": [
    "new_obj = YFDataManipulation(df,ticker_list)"
   ]
  },
  {
   "cell_type": "code",
   "execution_count": 66,
   "metadata": {},
   "outputs": [
    {
     "name": "stdout",
     "output_type": "stream",
     "text": [
      "688016.SZ has been delisted during the period.\n",
      "603882.SZ has been delisted during the period.\n",
      "688029.SZ has been delisted during the period.\n",
      "600055.SZ has been delisted during the period.\n",
      "603259.SZ has been delisted during the period.\n",
      "603658.SZ has been delisted during the period.\n",
      "688366.SZ has been delisted during the period.\n",
      "603127.SZ has been delisted during the period.\n",
      "688139.SZ has been delisted during the period.\n",
      "600721.SZ has been delisted during the period.\n",
      "688068.SZ has been delisted during the period.\n",
      "603880.SZ has been delisted during the period.\n",
      "600763.SZ has been delisted during the period.\n",
      "600529.SZ has been delisted during the period.\n",
      "600587.SZ has been delisted during the period.\n",
      "603309.SZ has been delisted during the period.\n",
      "603976.SZ has been delisted during the period.\n",
      "688108.SZ has been delisted during the period.\n",
      "603301.SZ has been delisted during the period.\n",
      "688202.SZ has been delisted during the period.\n",
      "603108.SZ has been delisted during the period.\n",
      "600767.SZ has been delisted during the period.\n",
      "603387.SZ has been delisted during the period.\n",
      "603367.SZ has been delisted during the period.\n",
      "603987.SZ has been delisted during the period.\n",
      "688389.SZ has been delisted during the period.\n",
      "600896.SZ has been delisted during the period.\n",
      "688358.SZ has been delisted during the period.\n",
      "688310.SZ has been delisted during the period.\n"
     ]
    }
   ],
   "source": [
    "new_df = new_obj.panel_data_construction(['Close'])\n",
    "new_df['date'] = new_df.index\n",
    "new_obj.update_panel_data(new_df)"
   ]
  },
  {
   "cell_type": "code",
   "execution_count": 68,
   "metadata": {},
   "outputs": [],
   "source": [
    "df = new_obj.display_effective_obs(ticker_list)\n",
    "sub_df = df[(df['max_date']=='2019-12-06') & (df['min_date']<='2005-05-18')]\n"
   ]
  },
  {
   "cell_type": "code",
   "execution_count": 70,
   "metadata": {},
   "outputs": [],
   "source": [
    "ticker_list = sub_df.ticker"
   ]
  },
  {
   "cell_type": "code",
   "execution_count": 71,
   "metadata": {},
   "outputs": [],
   "source": [
    "new_df = new_obj.dataframe_slicing(start_date = '2005-05-18',end_date = '2019-12-06')"
   ]
  },
  {
   "cell_type": "code",
   "execution_count": 72,
   "metadata": {},
   "outputs": [],
   "source": [
    "wide_df = new_df[ticker_list]"
   ]
  },
  {
   "cell_type": "code",
   "execution_count": 73,
   "metadata": {},
   "outputs": [],
   "source": [
    "obj_1 = YFDataManipulation(wide_df,ticker_list)"
   ]
  },
  {
   "cell_type": "code",
   "execution_count": 74,
   "metadata": {},
   "outputs": [],
   "source": [
    "new_df = obj_1.panel_data_construction(['Close'])\n",
    "new_df['date'] = new_df.index"
   ]
  },
  {
   "cell_type": "code",
   "execution_count": 78,
   "metadata": {},
   "outputs": [],
   "source": [
    "final_df = new_df[['ticker','date','Close']]"
   ]
  },
  {
   "cell_type": "code",
   "execution_count": 79,
   "metadata": {},
   "outputs": [],
   "source": [
    "final_df.columns = ['ticker','date','price']"
   ]
  },
  {
   "cell_type": "code",
   "execution_count": 80,
   "metadata": {},
   "outputs": [],
   "source": [
    "final_df.to_csv('Data/Chinese_stock.csv',index=False)"
   ]
  }
 ],
 "metadata": {
  "kernelspec": {
   "display_name": "Python 3",
   "language": "python",
   "name": "python3"
  },
  "language_info": {
   "codemirror_mode": {
    "name": "ipython",
    "version": 3
   },
   "file_extension": ".py",
   "mimetype": "text/x-python",
   "name": "python",
   "nbconvert_exporter": "python",
   "pygments_lexer": "ipython3",
   "version": "3.6.8"
  }
 },
 "nbformat": 4,
 "nbformat_minor": 2
}
