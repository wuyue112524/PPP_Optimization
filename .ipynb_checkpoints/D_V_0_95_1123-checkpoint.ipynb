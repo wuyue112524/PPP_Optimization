{
 "cells": [
  {
   "cell_type": "markdown",
   "metadata": {},
   "source": [
    "# PPP Replication V 0.95"
   ]
  },
  {
   "cell_type": "markdown",
   "metadata": {},
   "source": [
    "## Import Library and Wrapper"
   ]
  },
  {
   "cell_type": "code",
   "execution_count": null,
   "metadata": {},
   "outputs": [],
   "source": [
    "import pandas as pd\n",
    "import numpy as np"
   ]
  },
  {
   "cell_type": "code",
   "execution_count": 2,
   "metadata": {},
   "outputs": [],
   "source": [
    "from Wrapper.W_momen_factor_create import *\n",
    "from Wrapper.W_pre_factor_data_mani import *\n",
    "from Wrapper.W_pre_opt_data_mani import wrapper_df_preparation\n",
    "from Wrapper.W_pre_opt_obj_func import (wrapper_objective_compo_creation,\n",
    "                                               wrapper_objective_func)\n",
    "import scipy.optimize as opt\n",
    "from Wrapper.Moduel.M_FactorCreator import FactorsConstruction\n",
    "from Wrapper.W_pre_opt_factor_standardize import wrapper_standardize_factor\n",
    "from Wrapper.Moduel.M_SupportFunction import (weight_prediction,get_new_factor_value)\n",
    "from Wrapper.W_opt_ppp import PPP_optimize"
   ]
  },
  {
   "cell_type": "markdown",
   "metadata": {},
   "source": [
    "## Prepare Data"
   ]
  },
  {
   "cell_type": "code",
   "execution_count": 3,
   "metadata": {},
   "outputs": [],
   "source": [
    "price_file = \"Data/Price.csv\"\n",
    "price_df, ticker_list = wrapper_import_data(price_file)"
   ]
  },
  {
   "cell_type": "code",
   "execution_count": 4,
   "metadata": {},
   "outputs": [],
   "source": [
    "return_df, factor_df = wrapper_return_calculation(price_df, \n",
    "                           ticker_list,\n",
    "                           look_back_list=[3,6,9],skip=1,\n",
    "                           target_name='price',frequency='BM')"
   ]
  },
  {
   "cell_type": "code",
   "execution_count": 5,
   "metadata": {},
   "outputs": [],
   "source": [
    "result_dic = wrapper_factor_return_output(return_df,factor_df)\n",
    "factor_df = result_dic[\"factor_df\"]\n",
    "return_df = result_dic[\"return_df\"]"
   ]
  },
  {
   "cell_type": "code",
   "execution_count": 6,
   "metadata": {},
   "outputs": [],
   "source": [
    "factor_list = [\"momentum_3\",\"momentum_6\",\"momentum_9\"]"
   ]
  },
  {
   "cell_type": "code",
   "execution_count": 7,
   "metadata": {},
   "outputs": [
    {
     "name": "stderr",
     "output_type": "stream",
     "text": [
      "C:\\Users\\clair\\PolyNex\\PPP\\PPP_Repilcation\\PPP_Repilcation\\Wrapper\\Moduel\\M_PanelFormatter.py:49: SettingWithCopyWarning: \n",
      "A value is trying to be set on a copy of a slice from a DataFrame.\n",
      "Try using .loc[row_indexer,col_indexer] = value instead\n",
      "\n",
      "See the caveats in the documentation: http://pandas.pydata.org/pandas-docs/stable/indexing.html#indexing-view-versus-copy\n",
      "  x[shift_target] = x[shift_target].shift(shift_step)\n"
     ]
    }
   ],
   "source": [
    "reshape_dic = wrapper_df_preparation(return_df,factor_df,factor_list)\n",
    "factor_dic = reshape_dic[\"factor_dic\"]\n",
    "ret_mat = reshape_dic[\"ret_mat\"]"
   ]
  },
  {
   "cell_type": "code",
   "execution_count": 8,
   "metadata": {},
   "outputs": [],
   "source": [
    "factor_dic.update({'ret_mat':ret_mat})"
   ]
  },
  {
   "cell_type": "code",
   "execution_count": 9,
   "metadata": {},
   "outputs": [],
   "source": [
    "ret_mat_test = pd.DataFrame(ret_mat)\n",
    "ret_mat_test = ret_mat_test.shift(1)"
   ]
  },
  {
   "cell_type": "code",
   "execution_count": 10,
   "metadata": {},
   "outputs": [],
   "source": [
    "ret_mat_test =np.array(ret_mat_test)"
   ]
  },
  {
   "cell_type": "code",
   "execution_count": 11,
   "metadata": {},
   "outputs": [],
   "source": [
    "general_dic = {'ticker_list':ticker_list,'ret_mat_test':ret_mat_test,'factor_list':factor_list}"
   ]
  },
  {
   "cell_type": "markdown",
   "metadata": {},
   "source": [
    "## Standardization Step"
   ]
  },
  {
   "cell_type": "code",
   "execution_count": 12,
   "metadata": {},
   "outputs": [],
   "source": [
    "factor_dic = wrapper_standardize_factor(ticker_list,factor_dic)"
   ]
  },
  {
   "cell_type": "code",
   "execution_count": 13,
   "metadata": {},
   "outputs": [],
   "source": [
    "data_dict ={'strategy_specific_data':factor_dic,'general_data':general_dic}"
   ]
  },
  {
   "cell_type": "markdown",
   "metadata": {},
   "source": [
    "## Optimization"
   ]
  },
  {
   "cell_type": "code",
   "execution_count": 14,
   "metadata": {},
   "outputs": [
    {
     "name": "stdout",
     "output_type": "stream",
     "text": [
      "Optimization terminated successfully.\n",
      "         Current function value: 1593.063853\n",
      "         Iterations: 74\n",
      "         Function evaluations: 136\n"
     ]
    }
   ],
   "source": [
    "final_weight = PPP_optimize(data_dict)"
   ]
  },
  {
   "cell_type": "code",
   "execution_count": null,
   "metadata": {},
   "outputs": [],
   "source": []
  }
 ],
 "metadata": {
  "kernelspec": {
   "display_name": "Python 3",
   "language": "python",
   "name": "python3"
  },
  "language_info": {
   "codemirror_mode": {
    "name": "ipython",
    "version": 3
   },
   "file_extension": ".py",
   "mimetype": "text/x-python",
   "name": "python",
   "nbconvert_exporter": "python",
   "pygments_lexer": "ipython3",
   "version": "3.6.8"
  }
 },
 "nbformat": 4,
 "nbformat_minor": 2
}
