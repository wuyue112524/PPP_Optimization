{
 "cells": [
  {
   "cell_type": "markdown",
   "metadata": {},
   "source": [
    "# PPP Replication Code (Version 0.92)"
   ]
  },
  {
   "cell_type": "code",
   "execution_count": 1,
   "metadata": {},
   "outputs": [],
   "source": [
    "import pandas as pd\n",
    "import numpy as np"
   ]
  },
  {
   "cell_type": "code",
   "execution_count": 2,
   "metadata": {},
   "outputs": [],
   "source": [
    "from UtilityFunctionModule import UtilityFunction\n",
    "from WeightFunctionModule import WeightFunction\n",
    "from SupportFunction import (portfolio_return_calculation,\n",
    "                             single_factor_reshape, \n",
    "                             panel_data_apply,\n",
    "                             panel_data_re_frequency,\n",
    "                             factor_data_reshape)\n",
    "from DataManipulation import BasicManipulation\n",
    "from test_support_function import panel_data_shift"
   ]
  },
  {
   "cell_type": "markdown",
   "metadata": {},
   "source": [
    "## Data Cleaning and Manipulation Step"
   ]
  },
  {
   "cell_type": "markdown",
   "metadata": {},
   "source": [
    "### Import Sample Data"
   ]
  },
  {
   "cell_type": "code",
   "execution_count": 3,
   "metadata": {},
   "outputs": [],
   "source": [
    "price_data = pd.read_csv(\"Price.csv\")\n",
    "factor_data = pd.read_csv(\"Factor.csv\")"
   ]
  },
  {
   "cell_type": "code",
   "execution_count": 47,
   "metadata": {},
   "outputs": [],
   "source": [
    "price_data.date = pd.to_datetime(price_data.date,yearfirst=True)\n",
    "factor_data.date = pd.to_datetime(factor_data.date,yearfirst=True)\n",
    "price_data = price_data.sort_values(by=[\"ticker\",\"date\"])\n",
    "factor_data = factor_data.sort_values(by=[\"ticker\",\"date\"])"
   ]
  },
  {
   "cell_type": "code",
   "execution_count": 48,
   "metadata": {},
   "outputs": [],
   "source": [
    "price_data.index = price_data.date\n",
    "factor_data.index = factor_data.date"
   ]
  },
  {
   "cell_type": "markdown",
   "metadata": {},
   "source": [
    "Obtain the ticker list. The ticker list contains the universe of stocks that you want to form portfolio with.\n",
    "\n",
    "The assets are reordered based on the relative value of the string."
   ]
  },
  {
   "cell_type": "code",
   "execution_count": 54,
   "metadata": {},
   "outputs": [],
   "source": [
    "ticker_list = list(set(price_data.ticker))\n",
    "ticker_list.sort()"
   ]
  },
  {
   "cell_type": "markdown",
   "metadata": {},
   "source": [
    "## Calculate Return and Change Format of Factor Data"
   ]
  },
  {
   "cell_type": "code",
   "execution_count": 55,
   "metadata": {},
   "outputs": [],
   "source": [
    "frequency = \"BM\""
   ]
  },
  {
   "cell_type": "code",
   "execution_count": 56,
   "metadata": {},
   "outputs": [],
   "source": [
    "data_manipulation = BasicManipulation()"
   ]
  },
  {
   "cell_type": "code",
   "execution_count": 57,
   "metadata": {},
   "outputs": [],
   "source": [
    "ret_df = data_manipulation.multiple_asset_return_calculation(price_data,\n",
    "                                                             by=\"ticker\",\n",
    "                                                             target=\"price\",\n",
    "                                                             index_name=\"date\",\n",
    "                                                             ticker_list=ticker_list,\n",
    "                                                             frequency=frequency,log_ret=False)"
   ]
  },
  {
   "cell_type": "markdown",
   "metadata": {},
   "source": [
    "### Need a Step to match the factor to the return data"
   ]
  },
  {
   "cell_type": "markdown",
   "metadata": {},
   "source": [
    "one way to achieve this is to match the frequency of the factor to the same frequency as the ret data. This works under the following two conditions\n",
    "1. factor data has the same date as price data\n",
    "2. the date used are roughly close to the end of the quarter"
   ]
  },
  {
   "cell_type": "code",
   "execution_count": 59,
   "metadata": {},
   "outputs": [],
   "source": [
    "factor_data = panel_data_re_frequency(ticker_list,dataframe=factor_data,frequency=frequency,method=\"ffill\")"
   ]
  },
  {
   "cell_type": "markdown",
   "metadata": {},
   "source": [
    "Now we can return to the main process.\n",
    "All these tedius process of data manipulation should be avoided in the future stage by building a better database and data manipulation module."
   ]
  },
  {
   "cell_type": "code",
   "execution_count": 60,
   "metadata": {},
   "outputs": [],
   "source": [
    "N = len(ticker_list)\n",
    "T = len(factor_data[factor_data.ticker==ticker_list[0]].date)"
   ]
  },
  {
   "cell_type": "code",
   "execution_count": 61,
   "metadata": {},
   "outputs": [],
   "source": [
    "factor_dic = factor_data_reshape(factor_colname_list=[\"factor_1\",\"factor_2\",\"factor_3\"]\n",
    "                                 ,dataframe=factor_data\n",
    "                                 ,number_of_assets=N\n",
    "                                 ,number_of_dates=T)"
   ]
  },
  {
   "cell_type": "code",
   "execution_count": 62,
   "metadata": {},
   "outputs": [],
   "source": [
    "factor_list = list(factor_dic.keys())\n",
    "factor_list.sort()"
   ]
  },
  {
   "cell_type": "markdown",
   "metadata": {},
   "source": [
    "## Remark\n",
    "\n",
    "1. Need a data extraction module with methods such as getting all daily data, all monthly data, all quarterly data...\n",
    "2. Need a dataframe reshape module"
   ]
  },
  {
   "cell_type": "markdown",
   "metadata": {},
   "source": [
    "## Formal Portfolio Optimization Step"
   ]
  },
  {
   "cell_type": "markdown",
   "metadata": {},
   "source": [
    "1. weight_func"
   ]
  },
  {
   "cell_type": "code",
   "execution_count": 63,
   "metadata": {},
   "outputs": [],
   "source": [
    "wb = np.ones([T,N])/len(ticker_list)"
   ]
  },
  {
   "cell_type": "code",
   "execution_count": 64,
   "metadata": {},
   "outputs": [],
   "source": [
    "weight_creation = WeightFunction(factor_dic)\n",
    "weight_func = weight_creation.linear_weight_function(wb)"
   ]
  },
  {
   "cell_type": "markdown",
   "metadata": {},
   "source": [
    "2. ret_mat"
   ]
  },
  {
   "cell_type": "code",
   "execution_count": 66,
   "metadata": {},
   "outputs": [],
   "source": [
    "def panel_data_shift(ticker_list,dataframe,colname,shift_step):\n",
    "    \n",
    "    storage = []\n",
    "\n",
    "    for ticker in ticker_list:\n",
    "        sub_df = dataframe[dataframe[\"ticker\"]==ticker]\n",
    "        sub_df[colname] = sub_df[colname].shift(shift_step)\n",
    "        storage.append(sub_df)\n",
    "        \n",
    "    result = pd.concat(storage)"
   ]
  },
  {
   "cell_type": "code",
   "execution_count": null,
   "metadata": {},
   "outputs": [],
   "source": []
  },
  {
   "cell_type": "code",
   "execution_count": 67,
   "metadata": {},
   "outputs": [
    {
     "name": "stderr",
     "output_type": "stream",
     "text": [
      "/Users/sunnyyang/opt/anaconda3/lib/python3.7/site-packages/ipykernel_launcher.py:4: SettingWithCopyWarning: \n",
      "A value is trying to be set on a copy of a slice from a DataFrame.\n",
      "Try using .loc[row_indexer,col_indexer] = value instead\n",
      "\n",
      "See the caveats in the documentation: http://pandas.pydata.org/pandas-docs/stable/user_guide/indexing.html#returning-a-view-versus-a-copy\n",
      "  after removing the cwd from sys.path.\n"
     ]
    }
   ],
   "source": [
    "storage = []\n",
    "for ticker in ticker_list:\n",
    "    sub_df = ret_df[ret_df[\"ticker\"]==ticker]\n",
    "    sub_df[\"price\"] = sub_df[\"price\"].shift(-1)\n",
    "    storage.append(sub_df)\n",
    "ret_df_forward = pd.concat(storage)"
   ]
  },
  {
   "cell_type": "code",
   "execution_count": 68,
   "metadata": {},
   "outputs": [],
   "source": [
    "ret_df_forward = ret_df_forward.sort_values(by=[\"ticker\",\"date\"])"
   ]
  },
  {
   "cell_type": "code",
   "execution_count": 69,
   "metadata": {},
   "outputs": [],
   "source": [
    "ret_mat = single_factor_reshape(factor_series = ret_df_forward.price,\n",
    "                              number_of_assets = N,\n",
    "                              number_of_dates = T)"
   ]
  },
  {
   "cell_type": "code",
   "execution_count": null,
   "metadata": {},
   "outputs": [],
   "source": []
  },
  {
   "cell_type": "markdown",
   "metadata": {},
   "source": [
    "3. util"
   ]
  },
  {
   "cell_type": "code",
   "execution_count": 70,
   "metadata": {},
   "outputs": [],
   "source": [
    "utility_func_creator = UtilityFunction()"
   ]
  },
  {
   "cell_type": "code",
   "execution_count": 71,
   "metadata": {},
   "outputs": [],
   "source": [
    "util = utility_func_creator.crra_utility(risk_aversion=5)"
   ]
  },
  {
   "cell_type": "code",
   "execution_count": null,
   "metadata": {},
   "outputs": [],
   "source": []
  },
  {
   "cell_type": "markdown",
   "metadata": {},
   "source": [
    "4. portfolio_return_cal"
   ]
  },
  {
   "cell_type": "code",
   "execution_count": 72,
   "metadata": {},
   "outputs": [],
   "source": [
    "def portfolio_return_cal(theta,weight_func,ret_mat):\n",
    "    \n",
    "    w_mat = weight_func(theta)\n",
    "    wet_ret = w_mat * ret_mat\n",
    "    rp = np.apply_along_axis(np.sum,1,wet_ret)\n",
    "    return rp"
   ]
  },
  {
   "cell_type": "code",
   "execution_count": null,
   "metadata": {},
   "outputs": [],
   "source": []
  },
  {
   "cell_type": "markdown",
   "metadata": {},
   "source": [
    "### Final Objective Function"
   ]
  },
  {
   "cell_type": "code",
   "execution_count": 73,
   "metadata": {},
   "outputs": [],
   "source": [
    "def objective_func(theta):\n",
    "    \n",
    "    rp = portfolio_return_cal(theta,weight_func,ret_mat)\n",
    "    \n",
    "    util_vec = util(rp)\n",
    "    \n",
    "    ave_util = np.mean(util_vec)\n",
    "    \n",
    "    return -ave_util"
   ]
  },
  {
   "cell_type": "markdown",
   "metadata": {},
   "source": [
    "## Optimizer"
   ]
  },
  {
   "cell_type": "code",
   "execution_count": 74,
   "metadata": {},
   "outputs": [],
   "source": [
    "import scipy.optimize as opt"
   ]
  },
  {
   "cell_type": "code",
   "execution_count": 75,
   "metadata": {},
   "outputs": [],
   "source": [
    "x0 = [1.0,10.0,1.0]\n",
    "myoptions = {\"disp\":True}"
   ]
  },
  {
   "cell_type": "code",
   "execution_count": 76,
   "metadata": {},
   "outputs": [
    {
     "name": "stdout",
     "output_type": "stream",
     "text": [
      "Optimization terminated successfully.\n",
      "         Current function value: 0.244971\n",
      "         Iterations: 140\n",
      "         Function evaluations: 254\n"
     ]
    }
   ],
   "source": [
    "opt_results = opt.minimize(objective_func,x0,options=myoptions,method = 'Nelder-Mead')"
   ]
  },
  {
   "cell_type": "code",
   "execution_count": 77,
   "metadata": {},
   "outputs": [],
   "source": [
    "theta = opt_results['x']\n",
    "theta = np.reshape(theta,[theta.shape[0],1])"
   ]
  },
  {
   "cell_type": "code",
   "execution_count": 78,
   "metadata": {},
   "outputs": [
    {
     "name": "stdout",
     "output_type": "stream",
     "text": [
      "Optimization terminated successfully.\n",
      "         Current function value: 0.244974\n",
      "         Iterations: 3\n",
      "         Function evaluations: 101\n"
     ]
    },
    {
     "data": {
      "text/plain": [
       "   direc: array([[ 0.        ,  0.        ,  1.        ],\n",
       "       [ 0.        ,  1.        ,  0.        ],\n",
       "       [ 2.06998113, -0.86347338, -2.07754822]])\n",
       "     fun: 0.24497426302800646\n",
       " message: 'Optimization terminated successfully.'\n",
       "    nfev: 101\n",
       "     nit: 3\n",
       "  status: 0\n",
       " success: True\n",
       "       x: array([-4.43730369,  4.91596928, -9.51004765])"
      ]
     },
     "execution_count": 78,
     "metadata": {},
     "output_type": "execute_result"
    }
   ],
   "source": [
    "opt.minimize(objective_func,x0,options=myoptions,method = 'Powell')"
   ]
  },
  {
   "cell_type": "markdown",
   "metadata": {},
   "source": [
    "## Predict Future Weight"
   ]
  },
  {
   "cell_type": "code",
   "execution_count": 79,
   "metadata": {},
   "outputs": [],
   "source": [
    "def weight_prediction(wb,theta,factor):\n",
    "    '''\n",
    "    :pars:wb(arrary) N X 1\n",
    "    :pars:theta(array) K X1\n",
    "    :pars:factor(array) K X N\n",
    "    '''\n",
    "    N = wb.shape[0]\n",
    "    active_weight = np.matmul(factor.T,theta)/N\n",
    "    final_weight = wb + active_weight\n",
    "    return final_weight\n",
    "\n",
    "def get_new_factor_value(factor_dic,factor_list,new_factor_row=-1):\n",
    "    \n",
    "    new_factor_list = []\n",
    "    \n",
    "    for factor in factor_list:\n",
    "        single_factor_df = factor_dic[factor]\n",
    "        new_single_factor = single_factor_df[new_factor_row,:]\n",
    "        new_factor_list.append(new_single_factor)\n",
    "    \n",
    "    new_factor_list = np.array(new_factor_list)\n",
    "    \n",
    "    return new_factor_list"
   ]
  },
  {
   "cell_type": "code",
   "execution_count": 80,
   "metadata": {},
   "outputs": [],
   "source": [
    "wb = np.ones((N,1))/N"
   ]
  },
  {
   "cell_type": "code",
   "execution_count": 81,
   "metadata": {},
   "outputs": [],
   "source": [
    "factor = get_new_factor_value(factor_dic,factor_list,new_factor_row=-1)"
   ]
  },
  {
   "cell_type": "code",
   "execution_count": 82,
   "metadata": {},
   "outputs": [
    {
     "data": {
      "text/plain": [
       "array([[0.2030573 ],\n",
       "       [0.31436766],\n",
       "       [0.26265535],\n",
       "       [0.30058318],\n",
       "       [0.12068953]])"
      ]
     },
     "execution_count": 82,
     "metadata": {},
     "output_type": "execute_result"
    }
   ],
   "source": [
    "weight_prediction(wb,theta,factor)"
   ]
  },
  {
   "cell_type": "code",
   "execution_count": null,
   "metadata": {},
   "outputs": [],
   "source": []
  },
  {
   "cell_type": "code",
   "execution_count": null,
   "metadata": {},
   "outputs": [],
   "source": []
  }
 ],
 "metadata": {
  "kernelspec": {
   "display_name": "Python 3",
   "language": "python",
   "name": "python3"
  },
  "language_info": {
   "codemirror_mode": {
    "name": "ipython",
    "version": 3
   },
   "file_extension": ".py",
   "mimetype": "text/x-python",
   "name": "python",
   "nbconvert_exporter": "python",
   "pygments_lexer": "ipython3",
   "version": "3.6.8"
  }
 },
 "nbformat": 4,
 "nbformat_minor": 2
}
