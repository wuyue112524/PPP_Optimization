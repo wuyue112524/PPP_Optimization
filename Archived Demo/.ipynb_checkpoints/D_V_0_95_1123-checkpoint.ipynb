{
 "cells": [
  {
   "cell_type": "code",
   "execution_count": 1,
   "metadata": {},
   "outputs": [],
   "source": [
    "import pandas as pd\n",
    "import numpy as np"
   ]
  },
  {
   "cell_type": "code",
   "execution_count": 2,
   "metadata": {},
   "outputs": [],
   "source": [
    "from Wrapper.W_momen_factor_create import *\n",
    "from Wrapper.W_pre_factor_data_mani import *\n",
    "from Wrapper.W_pre_opt_data_mani import wrapper_df_preparation\n",
    "from Wrapper.W_pre_opt_obj_func import (wrapper_objective_compo_creation,\n",
    "                                               wrapper_objective_func)\n",
    "import scipy.optimize as opt\n",
    "from FactorModuel import FactorsConstruction"
   ]
  },
  {
   "cell_type": "code",
   "execution_count": 3,
   "metadata": {},
   "outputs": [],
   "source": [
    "price_file = \"Price.csv\"\n",
    "price_df, ticker_list = wrapper_import_data(price_file,format_date='%Y/%m/%d')"
   ]
  },
  {
   "cell_type": "code",
   "execution_count": 4,
   "metadata": {},
   "outputs": [],
   "source": [
    "return_df, factor_df = wrapper_return_calculation(price_df, \n",
    "                           ticker_list,\n",
    "                           look_back_list=[3,6,9],skip=1,\n",
    "                           target_name='price',frequency='BM')"
   ]
  },
  {
   "cell_type": "code",
   "execution_count": 5,
   "metadata": {},
   "outputs": [],
   "source": [
    "result_dic = wrapper_factor_return_output(return_df,factor_df)\n",
    "factor_df = result_dic[\"factor_df\"]\n",
    "return_df = result_dic[\"return_df\"]"
   ]
  },
  {
   "cell_type": "code",
   "execution_count": 6,
   "metadata": {},
   "outputs": [],
   "source": [
    "factor_list = [\"momentum_3\",\"momentum_6\",\"momentum_9\"]"
   ]
  },
  {
   "cell_type": "code",
   "execution_count": 7,
   "metadata": {},
   "outputs": [
    {
     "name": "stderr",
     "output_type": "stream",
     "text": [
      "/Users/sunnyyang/Desktop/ADDACE/PanelDataFormat.py:53: SettingWithCopyWarning: \n",
      "A value is trying to be set on a copy of a slice from a DataFrame.\n",
      "Try using .loc[row_indexer,col_indexer] = value instead\n",
      "\n",
      "See the caveats in the documentation: http://pandas.pydata.org/pandas-docs/stable/user_guide/indexing.html#returning-a-view-versus-a-copy\n",
      "  x[shift_target] = x[shift_target].shift(shift_step)\n"
     ]
    }
   ],
   "source": [
    "reshape_dic = wrapper_df_preparation(return_df,factor_df,factor_list)\n",
    "factor_dic = reshape_dic[\"factor_dic\"]\n",
    "ret_mat = reshape_dic[\"ret_mat\"]"
   ]
  },
  {
   "cell_type": "code",
   "execution_count": 8,
   "metadata": {},
   "outputs": [],
   "source": [
    "factor_1 = factor_dic[\"momentum_3\"]\n",
    "factor_1 = pd.DataFrame(factor_1)"
   ]
  },
  {
   "cell_type": "code",
   "execution_count": 9,
   "metadata": {},
   "outputs": [],
   "source": [
    "sample_obj = FactorsConstruction()"
   ]
  },
  {
   "cell_type": "code",
   "execution_count": 13,
   "metadata": {},
   "outputs": [],
   "source": [
    "N = len(ticker_list)"
   ]
  },
  {
   "cell_type": "code",
   "execution_count": 15,
   "metadata": {},
   "outputs": [],
   "source": [
    "sta_factor_1 = sample_obj.factor_scaler(factor_1,start_col=0,end_col=N)"
   ]
  },
  {
   "cell_type": "code",
   "execution_count": null,
   "metadata": {},
   "outputs": [],
   "source": [
    "param_dic = wrapper_objective_compo_creation(factor_dic,ticker_list,ret_mat)\n",
    "objective_func = wrapper_objective_func(param_dic=param_dic)"
   ]
  },
  {
   "cell_type": "code",
   "execution_count": null,
   "metadata": {},
   "outputs": [],
   "source": []
  },
  {
   "cell_type": "code",
   "execution_count": null,
   "metadata": {},
   "outputs": [],
   "source": []
  },
  {
   "cell_type": "code",
   "execution_count": null,
   "metadata": {},
   "outputs": [],
   "source": [
    "x0 = [1.0,10.0,1.0]\n",
    "myoptions = {\"disp\":True}"
   ]
  },
  {
   "cell_type": "code",
   "execution_count": null,
   "metadata": {},
   "outputs": [],
   "source": [
    "opt_results = opt.minimize(func,x0,options=myoptions,method = 'Nelder-Mead')"
   ]
  },
  {
   "cell_type": "code",
   "execution_count": null,
   "metadata": {},
   "outputs": [],
   "source": [
    "opt_results"
   ]
  },
  {
   "cell_type": "code",
   "execution_count": null,
   "metadata": {},
   "outputs": [],
   "source": []
  }
 ],
 "metadata": {
  "kernelspec": {
   "display_name": "Python 3",
   "language": "python",
   "name": "python3"
  },
  "language_info": {
   "codemirror_mode": {
    "name": "ipython",
    "version": 3
   },
   "file_extension": ".py",
   "mimetype": "text/x-python",
   "name": "python",
   "nbconvert_exporter": "python",
   "pygments_lexer": "ipython3",
   "version": "3.7.4"
  }
 },
 "nbformat": 4,
 "nbformat_minor": 2
}
