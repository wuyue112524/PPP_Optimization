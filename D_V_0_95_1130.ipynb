{
 "cells": [
  {
   "cell_type": "code",
   "execution_count": 1,
   "metadata": {},
   "outputs": [],
   "source": [
    "import matplotlib.pyplot as plt\n",
    "import pandas as pd\n",
    "import numpy as np\n",
    "from Wrapper.W_momen_factor_create import *\n",
    "from Wrapper.W_pre_factor_data_mani import *\n",
    "from Wrapper.W_pre_opt_data_mani import wrapper_df_preparation\n",
    "from Wrapper.W_pre_opt_obj_func import (wrapper_objective_compo_creation,\n",
    "                                               wrapper_objective_func)\n",
    "import scipy.optimize as opt\n",
    "from Wrapper.Moduel.M_FactorCreator import FactorsConstruction\n",
    "from Wrapper.W_pre_opt_factor_standardize import wrapper_standardize_factor\n",
    "from Wrapper.Moduel.M_SupportFunction import (weight_prediction,get_new_factor_value)\n",
    "from Wrapper.W_opt_ppp import PPP_optimize\n",
    "from Wrapper.Moduel.M_BackTest import BackTest\n",
    "from Wrapper.Moduel.M_BenchmarkBacktest import BenchmarkStrategy, BenchmarkIndex\n",
    "from Wrapper.Moduel.M_PerforEvalu import ModelFreeEvaluation\n",
    "\n",
    "\n",
    "def plot_multiple_series(dataframe,date_name, colname_list):\n",
    "    plt.figure(figsize = (20,10))\n",
    "    for colname in colname_list:\n",
    "        plt.plot(dataframe[date_name],dataframe[colname])"
   ]
  },
  {
   "cell_type": "markdown",
   "metadata": {},
   "source": [
    "## Data Preparation "
   ]
  },
  {
   "cell_type": "code",
   "execution_count": 2,
   "metadata": {},
   "outputs": [
    {
     "name": "stderr",
     "output_type": "stream",
     "text": [
      "/Users/sunnyyang/Desktop/2019.11.29 Version/Wrapper/Moduel/M_PanelFormatter.py:49: SettingWithCopyWarning: \n",
      "A value is trying to be set on a copy of a slice from a DataFrame.\n",
      "Try using .loc[row_indexer,col_indexer] = value instead\n",
      "\n",
      "See the caveats in the documentation: http://pandas.pydata.org/pandas-docs/stable/user_guide/indexing.html#returning-a-view-versus-a-copy\n",
      "  x[shift_target] = x[shift_target].shift(shift_step)\n"
     ]
    }
   ],
   "source": [
    "price_file = \"Data/Price.csv\"\n",
    "price_df, ticker_list = wrapper_import_data(price_file)\n",
    "return_df, factor_df = wrapper_return_calculation(price_df, \n",
    "                           ticker_list,\n",
    "                           look_back_list=[12],skip=0,\n",
    "                           target_name='price',frequency='BM')\n",
    "factor_df, return_df  = wrapper_factor_return_output(return_df,factor_df)\n",
    "factor_list = [\"momentum_12\"]\n",
    "reshape_dic = wrapper_df_preparation(return_df,factor_df,factor_list)\n",
    "factor_dic = reshape_dic[\"factor_dic\"]"
   ]
  },
  {
   "cell_type": "code",
   "execution_count": 3,
   "metadata": {},
   "outputs": [],
   "source": [
    "ret_mat = reshape_dic[\"ret_mat\"]\n",
    "factor_dic.update({'ret_mat':ret_mat})\n",
    "ret_mat_test = pd.DataFrame(ret_mat)\n",
    "ret_mat_test = ret_mat_test.shift(1)\n",
    "ret_mat_test = np.array(ret_mat_test)\n",
    "date_df = return_df[return_df['ticker']=='AEP']\n",
    "date = date_df['date']"
   ]
  },
  {
   "cell_type": "code",
   "execution_count": 4,
   "metadata": {},
   "outputs": [],
   "source": [
    "general_dic = {'ticker_list':ticker_list,'ret_mat_test':ret_mat_test,'factor_list':factor_list,'date':date}\n",
    "factor_dic = wrapper_standardize_factor(ticker_list,factor_dic)\n",
    "data_dict ={'strategy_specific_data':factor_dic,'general_data':general_dic}"
   ]
  },
  {
   "cell_type": "markdown",
   "metadata": {},
   "source": [
    "## Strategy Back Test"
   ]
  },
  {
   "cell_type": "markdown",
   "metadata": {},
   "source": [
    "### Back Test Detail"
   ]
  },
  {
   "cell_type": "code",
   "execution_count": 5,
   "metadata": {},
   "outputs": [],
   "source": [
    "def func(x):\n",
    "    final_weight = PPP_optimize(x,ticker_list=ticker_list,factor_list=factor_list)\n",
    "    return final_weight\n",
    "\n",
    "strategy_est_length = 10\n",
    "end_index = 200\n",
    "update = 1"
   ]
  },
  {
   "cell_type": "markdown",
   "metadata": {},
   "source": [
    "### Back Test Implementation"
   ]
  },
  {
   "cell_type": "code",
   "execution_count": 6,
   "metadata": {},
   "outputs": [
    {
     "name": "stdout",
     "output_type": "stream",
     "text": [
      "Optimization terminated successfully.\n",
      "         Current function value: 0.245711\n",
      "         Iterations: 17\n",
      "         Function evaluations: 34\n",
      "Optimization terminated successfully.\n",
      "         Current function value: 0.248077\n",
      "         Iterations: 17\n",
      "         Function evaluations: 34\n",
      "Optimization terminated successfully.\n",
      "         Current function value: 0.246585\n",
      "         Iterations: 17\n",
      "         Function evaluations: 34\n",
      "Optimization terminated successfully.\n",
      "         Current function value: 0.242312\n",
      "         Iterations: 16\n",
      "         Function evaluations: 32\n",
      "Optimization terminated successfully.\n",
      "         Current function value: 0.248355\n",
      "         Iterations: 17\n",
      "         Function evaluations: 34\n",
      "Optimization terminated successfully.\n",
      "         Current function value: 0.244327\n",
      "         Iterations: 17\n",
      "         Function evaluations: 34\n",
      "Optimization terminated successfully.\n",
      "         Current function value: 0.246907\n",
      "         Iterations: 17\n",
      "         Function evaluations: 34\n",
      "Optimization terminated successfully.\n",
      "         Current function value: 0.248896\n",
      "         Iterations: 17\n",
      "         Function evaluations: 34\n",
      "Optimization terminated successfully.\n",
      "         Current function value: 0.226676\n",
      "         Iterations: 16\n",
      "         Function evaluations: 32\n",
      "Optimization terminated successfully.\n",
      "         Current function value: 0.210060\n",
      "         Iterations: 16\n",
      "         Function evaluations: 32\n",
      "Optimization terminated successfully.\n",
      "         Current function value: 0.211811\n",
      "         Iterations: 16\n",
      "         Function evaluations: 32\n",
      "Optimization terminated successfully.\n",
      "         Current function value: 0.180047\n",
      "         Iterations: 14\n",
      "         Function evaluations: 28\n",
      "Optimization terminated successfully.\n",
      "         Current function value: 0.225728\n",
      "         Iterations: 16\n",
      "         Function evaluations: 32\n",
      "Optimization terminated successfully.\n",
      "         Current function value: 0.225552\n",
      "         Iterations: 16\n",
      "         Function evaluations: 32\n",
      "Optimization terminated successfully.\n",
      "         Current function value: 0.241083\n",
      "         Iterations: 16\n",
      "         Function evaluations: 32\n",
      "Optimization terminated successfully.\n",
      "         Current function value: 0.248674\n",
      "         Iterations: 17\n",
      "         Function evaluations: 34\n",
      "Optimization terminated successfully.\n",
      "         Current function value: 0.249507\n",
      "         Iterations: 17\n",
      "         Function evaluations: 34\n",
      "Optimization terminated successfully.\n",
      "         Current function value: 0.243725\n",
      "         Iterations: 17\n",
      "         Function evaluations: 34\n",
      "Optimization terminated successfully.\n",
      "         Current function value: 0.224948\n",
      "         Iterations: 17\n",
      "         Function evaluations: 34\n",
      "Optimization terminated successfully.\n",
      "         Current function value: 0.217904\n",
      "         Iterations: 17\n",
      "         Function evaluations: 34\n",
      "Optimization terminated successfully.\n",
      "         Current function value: 0.230884\n",
      "         Iterations: 17\n",
      "         Function evaluations: 34\n",
      "Optimization terminated successfully.\n",
      "         Current function value: 0.220959\n",
      "         Iterations: 17\n",
      "         Function evaluations: 34\n",
      "Optimization terminated successfully.\n",
      "         Current function value: 0.230379\n",
      "         Iterations: 17\n",
      "         Function evaluations: 34\n",
      "Optimization terminated successfully.\n",
      "         Current function value: 0.242005\n",
      "         Iterations: 17\n",
      "         Function evaluations: 34\n",
      "Optimization terminated successfully.\n",
      "         Current function value: 0.249789\n",
      "         Iterations: 17\n",
      "         Function evaluations: 34\n",
      "Optimization terminated successfully.\n",
      "         Current function value: 0.247562\n",
      "         Iterations: 17\n",
      "         Function evaluations: 34\n",
      "Optimization terminated successfully.\n",
      "         Current function value: 0.238964\n",
      "         Iterations: 16\n",
      "         Function evaluations: 32\n",
      "Optimization terminated successfully.\n",
      "         Current function value: 0.237493\n",
      "         Iterations: 16\n",
      "         Function evaluations: 32\n",
      "Optimization terminated successfully.\n",
      "         Current function value: 0.225366\n",
      "         Iterations: 16\n",
      "         Function evaluations: 32\n",
      "Optimization terminated successfully.\n",
      "         Current function value: 0.226982\n",
      "         Iterations: 16\n",
      "         Function evaluations: 32\n",
      "Optimization terminated successfully.\n",
      "         Current function value: 0.247335\n",
      "         Iterations: 17\n",
      "         Function evaluations: 34\n",
      "Optimization terminated successfully.\n",
      "         Current function value: 0.243317\n",
      "         Iterations: 17\n",
      "         Function evaluations: 34\n",
      "Optimization terminated successfully.\n",
      "         Current function value: 0.243032\n",
      "         Iterations: 17\n",
      "         Function evaluations: 34\n",
      "Optimization terminated successfully.\n",
      "         Current function value: 0.245682\n",
      "         Iterations: 17\n",
      "         Function evaluations: 34\n",
      "Optimization terminated successfully.\n",
      "         Current function value: 0.249514\n",
      "         Iterations: 17\n",
      "         Function evaluations: 34\n",
      "Optimization terminated successfully.\n",
      "         Current function value: 0.247842\n",
      "         Iterations: 17\n",
      "         Function evaluations: 34\n",
      "Optimization terminated successfully.\n",
      "         Current function value: 0.241689\n",
      "         Iterations: 17\n",
      "         Function evaluations: 34\n",
      "Optimization terminated successfully.\n",
      "         Current function value: 0.241516\n",
      "         Iterations: 17\n",
      "         Function evaluations: 34\n",
      "Optimization terminated successfully.\n",
      "         Current function value: 0.242132\n",
      "         Iterations: 17\n",
      "         Function evaluations: 34\n",
      "Optimization terminated successfully.\n",
      "         Current function value: 0.230431\n",
      "         Iterations: 17\n",
      "         Function evaluations: 34\n",
      "Optimization terminated successfully.\n",
      "         Current function value: 0.248042\n",
      "         Iterations: 17\n",
      "         Function evaluations: 34\n",
      "Optimization terminated successfully.\n",
      "         Current function value: 0.249083\n",
      "         Iterations: 17\n",
      "         Function evaluations: 34\n",
      "Optimization terminated successfully.\n",
      "         Current function value: 0.248838\n",
      "         Iterations: 17\n",
      "         Function evaluations: 34\n",
      "Optimization terminated successfully.\n",
      "         Current function value: 0.247580\n",
      "         Iterations: 17\n",
      "         Function evaluations: 34\n",
      "Optimization terminated successfully.\n",
      "         Current function value: 0.243808\n",
      "         Iterations: 16\n",
      "         Function evaluations: 32\n",
      "Optimization terminated successfully.\n",
      "         Current function value: 0.249895\n",
      "         Iterations: 17\n",
      "         Function evaluations: 34\n",
      "Optimization terminated successfully.\n",
      "         Current function value: 0.249111\n",
      "         Iterations: 17\n",
      "         Function evaluations: 34\n",
      "Optimization terminated successfully.\n",
      "         Current function value: 0.246828\n",
      "         Iterations: 17\n",
      "         Function evaluations: 34\n",
      "Optimization terminated successfully.\n",
      "         Current function value: 0.249940\n",
      "         Iterations: 17\n",
      "         Function evaluations: 34\n",
      "Optimization terminated successfully.\n",
      "         Current function value: 0.247161\n",
      "         Iterations: 17\n",
      "         Function evaluations: 34\n",
      "Optimization terminated successfully.\n",
      "         Current function value: 0.249950\n",
      "         Iterations: 17\n",
      "         Function evaluations: 34\n",
      "Optimization terminated successfully.\n",
      "         Current function value: 0.247533\n",
      "         Iterations: 17\n",
      "         Function evaluations: 34\n",
      "Optimization terminated successfully.\n",
      "         Current function value: 0.243503\n",
      "         Iterations: 17\n",
      "         Function evaluations: 34\n",
      "Optimization terminated successfully.\n",
      "         Current function value: 0.238656\n",
      "         Iterations: 17\n",
      "         Function evaluations: 34\n",
      "Optimization terminated successfully.\n",
      "         Current function value: 0.243666\n",
      "         Iterations: 17\n",
      "         Function evaluations: 34\n",
      "Optimization terminated successfully.\n",
      "         Current function value: 0.246532\n",
      "         Iterations: 17\n",
      "         Function evaluations: 34\n",
      "Optimization terminated successfully.\n",
      "         Current function value: 0.248173\n",
      "         Iterations: 17\n",
      "         Function evaluations: 34\n",
      "Optimization terminated successfully.\n",
      "         Current function value: 0.248858\n",
      "         Iterations: 17\n",
      "         Function evaluations: 34\n",
      "Optimization terminated successfully.\n",
      "         Current function value: 0.239180\n",
      "         Iterations: 17\n",
      "         Function evaluations: 34\n",
      "Optimization terminated successfully.\n",
      "         Current function value: 0.220628\n",
      "         Iterations: 18\n",
      "         Function evaluations: 36\n",
      "Optimization terminated successfully.\n",
      "         Current function value: 0.224045\n",
      "         Iterations: 18\n",
      "         Function evaluations: 36\n",
      "Optimization terminated successfully.\n",
      "         Current function value: 0.249194\n",
      "         Iterations: 17\n",
      "         Function evaluations: 34\n"
     ]
    },
    {
     "name": "stdout",
     "output_type": "stream",
     "text": [
      "Optimization terminated successfully.\n",
      "         Current function value: 0.249859\n",
      "         Iterations: 17\n",
      "         Function evaluations: 34\n",
      "Optimization terminated successfully.\n",
      "         Current function value: 0.249028\n",
      "         Iterations: 17\n",
      "         Function evaluations: 34\n",
      "Optimization terminated successfully.\n",
      "         Current function value: 0.248603\n",
      "         Iterations: 17\n",
      "         Function evaluations: 34\n",
      "Optimization terminated successfully.\n",
      "         Current function value: 0.248196\n",
      "         Iterations: 17\n",
      "         Function evaluations: 34\n",
      "Optimization terminated successfully.\n",
      "         Current function value: 0.238004\n",
      "         Iterations: 16\n",
      "         Function evaluations: 32\n",
      "Optimization terminated successfully.\n",
      "         Current function value: 0.245741\n",
      "         Iterations: 17\n",
      "         Function evaluations: 34\n",
      "Optimization terminated successfully.\n",
      "         Current function value: 0.240856\n",
      "         Iterations: 16\n",
      "         Function evaluations: 32\n",
      "Optimization terminated successfully.\n",
      "         Current function value: 0.238981\n",
      "         Iterations: 16\n",
      "         Function evaluations: 32\n",
      "Optimization terminated successfully.\n",
      "         Current function value: 0.242393\n",
      "         Iterations: 16\n",
      "         Function evaluations: 32\n",
      "Optimization terminated successfully.\n",
      "         Current function value: 0.248717\n",
      "         Iterations: 17\n",
      "         Function evaluations: 34\n",
      "Optimization terminated successfully.\n",
      "         Current function value: 0.249827\n",
      "         Iterations: 17\n",
      "         Function evaluations: 34\n",
      "Optimization terminated successfully.\n",
      "         Current function value: 0.248308\n",
      "         Iterations: 17\n",
      "         Function evaluations: 34\n",
      "Optimization terminated successfully.\n",
      "         Current function value: 0.249572\n",
      "         Iterations: 17\n",
      "         Function evaluations: 34\n",
      "Optimization terminated successfully.\n",
      "         Current function value: 0.248653\n",
      "         Iterations: 17\n",
      "         Function evaluations: 34\n",
      "Optimization terminated successfully.\n",
      "         Current function value: 0.221020\n",
      "         Iterations: 17\n",
      "         Function evaluations: 34\n",
      "Optimization terminated successfully.\n",
      "         Current function value: 0.241510\n",
      "         Iterations: 17\n",
      "         Function evaluations: 34\n",
      "Optimization terminated successfully.\n",
      "         Current function value: 0.249986\n",
      "         Iterations: 17\n",
      "         Function evaluations: 34\n",
      "Optimization terminated successfully.\n",
      "         Current function value: 0.248215\n",
      "         Iterations: 17\n",
      "         Function evaluations: 34\n",
      "Optimization terminated successfully.\n",
      "         Current function value: 0.249951\n",
      "         Iterations: 17\n",
      "         Function evaluations: 34\n",
      "Optimization terminated successfully.\n",
      "         Current function value: 0.248788\n",
      "         Iterations: 17\n",
      "         Function evaluations: 34\n",
      "Optimization terminated successfully.\n",
      "         Current function value: 0.249851\n",
      "         Iterations: 17\n",
      "         Function evaluations: 34\n",
      "Optimization terminated successfully.\n",
      "         Current function value: 0.244128\n",
      "         Iterations: 17\n",
      "         Function evaluations: 34\n",
      "Optimization terminated successfully.\n",
      "         Current function value: 0.238659\n",
      "         Iterations: 17\n",
      "         Function evaluations: 34\n",
      "Optimization terminated successfully.\n",
      "         Current function value: 0.233344\n",
      "         Iterations: 17\n",
      "         Function evaluations: 34\n",
      "Optimization terminated successfully.\n",
      "         Current function value: 0.244386\n",
      "         Iterations: 17\n",
      "         Function evaluations: 34\n",
      "Optimization terminated successfully.\n",
      "         Current function value: 0.237866\n",
      "         Iterations: 17\n",
      "         Function evaluations: 34\n",
      "Optimization terminated successfully.\n",
      "         Current function value: 0.200945\n",
      "         Iterations: 18\n",
      "         Function evaluations: 36\n",
      "Optimization terminated successfully.\n",
      "         Current function value: 0.220792\n",
      "         Iterations: 18\n",
      "         Function evaluations: 36\n",
      "Optimization terminated successfully.\n",
      "         Current function value: 0.191065\n",
      "         Iterations: 18\n",
      "         Function evaluations: 36\n",
      "Optimization terminated successfully.\n",
      "         Current function value: 0.224132\n",
      "         Iterations: 18\n",
      "         Function evaluations: 36\n",
      "Optimization terminated successfully.\n",
      "         Current function value: 0.207964\n",
      "         Iterations: 18\n",
      "         Function evaluations: 36\n",
      "Optimization terminated successfully.\n",
      "         Current function value: 0.209393\n",
      "         Iterations: 18\n",
      "         Function evaluations: 36\n",
      "Optimization terminated successfully.\n",
      "         Current function value: 0.196848\n",
      "         Iterations: 18\n",
      "         Function evaluations: 36\n",
      "Optimization terminated successfully.\n",
      "         Current function value: 0.204123\n",
      "         Iterations: 18\n",
      "         Function evaluations: 36\n",
      "Optimization terminated successfully.\n",
      "         Current function value: 0.178817\n",
      "         Iterations: 18\n",
      "         Function evaluations: 36\n",
      "Optimization terminated successfully.\n",
      "         Current function value: 0.222172\n",
      "         Iterations: 17\n",
      "         Function evaluations: 34\n",
      "Optimization terminated successfully.\n",
      "         Current function value: 0.221664\n",
      "         Iterations: 17\n",
      "         Function evaluations: 34\n",
      "Optimization terminated successfully.\n",
      "         Current function value: 0.240422\n",
      "         Iterations: 17\n",
      "         Function evaluations: 34\n"
     ]
    }
   ],
   "source": [
    "back_obj = BackTest(data_dict,func)\n",
    "rp_storage, weight_storage,date_storage = back_obj.historical_backtest(est_length = strategy_est_length,\n",
    "                                                                       start_index=101,\n",
    "                                                                       end_index=end_index,\n",
    "                                                                       update=1,\n",
    "                                                                       fixed=True)"
   ]
  },
  {
   "cell_type": "code",
   "execution_count": null,
   "metadata": {},
   "outputs": [],
   "source": []
  },
  {
   "cell_type": "markdown",
   "metadata": {},
   "source": [
    "### Back Test Result Evaluation"
   ]
  },
  {
   "cell_type": "code",
   "execution_count": 7,
   "metadata": {},
   "outputs": [],
   "source": [
    "obj = BenchmarkStrategy(rp_storage,date_storage)"
   ]
  },
  {
   "cell_type": "code",
   "execution_count": 8,
   "metadata": {},
   "outputs": [],
   "source": [
    "final_return_df = obj.equalweight(data= data_dict ,asset_num = 5, update=1,fixed=True)"
   ]
  },
  {
   "cell_type": "code",
   "execution_count": 9,
   "metadata": {},
   "outputs": [],
   "source": [
    "obj_1 = ModelFreeEvaluation(final_return_df['strategy_return'],final_return_df['date'])\n",
    "obj_2 = ModelFreeEvaluation(final_return_df['benchmark_return'],final_return_df['date'])"
   ]
  },
  {
   "cell_type": "code",
   "execution_count": 10,
   "metadata": {},
   "outputs": [],
   "source": [
    "sharpe_1 = obj_1.sharpe_ratio(annul_freq=12,rf=0.0016)\n",
    "sharpe_2 = obj_2.sharpe_ratio(annul_freq=12,rf=0.0016)"
   ]
  },
  {
   "cell_type": "code",
   "execution_count": 11,
   "metadata": {},
   "outputs": [],
   "source": [
    "cum_ret_1 = obj_1.cum_ret_calculation()\n",
    "cum_ret_2 = obj_2.cum_ret_calculation()"
   ]
  },
  {
   "cell_type": "code",
   "execution_count": 36,
   "metadata": {},
   "outputs": [],
   "source": [
    "dd1, mdd1, ddd1 = obj_1.drawdown_calculation()\n",
    "dd2, mdd2, ddd2 = obj_2.drawdown_calculation()"
   ]
  },
  {
   "cell_type": "code",
   "execution_count": 13,
   "metadata": {},
   "outputs": [],
   "source": [
    "final_return_df['cum_ret_1']=cum_ret_1\n",
    "final_return_df['cum_ret_2']=cum_ret_2\n",
    "final_return_df['dd1'] = dd1\n",
    "final_return_df['dd2'] = dd2"
   ]
  },
  {
   "cell_type": "code",
   "execution_count": 14,
   "metadata": {},
   "outputs": [
    {
     "data": {
      "text/plain": [
       "0.8445274242566363"
      ]
     },
     "execution_count": 14,
     "metadata": {},
     "output_type": "execute_result"
    }
   ],
   "source": [
    "sharpe_1"
   ]
  },
  {
   "cell_type": "code",
   "execution_count": 15,
   "metadata": {},
   "outputs": [
    {
     "data": {
      "text/plain": [
       "0.7173352208160747"
      ]
     },
     "execution_count": 15,
     "metadata": {},
     "output_type": "execute_result"
    }
   ],
   "source": [
    "sharpe_2"
   ]
  },
  {
   "cell_type": "code",
   "execution_count": 16,
   "metadata": {},
   "outputs": [
    {
     "data": {
      "text/plain": [
       "-0.16627120558855846"
      ]
     },
     "execution_count": 16,
     "metadata": {},
     "output_type": "execute_result"
    }
   ],
   "source": [
    "mdd1"
   ]
  },
  {
   "cell_type": "code",
   "execution_count": 17,
   "metadata": {},
   "outputs": [
    {
     "data": {
      "text/plain": [
       "-0.1614199500250234"
      ]
     },
     "execution_count": 17,
     "metadata": {},
     "output_type": "execute_result"
    }
   ],
   "source": [
    "mdd2"
   ]
  },
  {
   "cell_type": "code",
   "execution_count": 18,
   "metadata": {},
   "outputs": [
    {
     "data": {
      "text/plain": [
       "13.0"
      ]
     },
     "execution_count": 18,
     "metadata": {},
     "output_type": "execute_result"
    }
   ],
   "source": [
    "ddd1"
   ]
  },
  {
   "cell_type": "code",
   "execution_count": 19,
   "metadata": {},
   "outputs": [
    {
     "data": {
      "text/plain": [
       "13.0"
      ]
     },
     "execution_count": 19,
     "metadata": {},
     "output_type": "execute_result"
    }
   ],
   "source": [
    "ddd2"
   ]
  },
  {
   "cell_type": "code",
   "execution_count": 20,
   "metadata": {},
   "outputs": [],
   "source": [
    "ret_series = final_return_df.strategy_return\n",
    "date_series = final_return_df.date"
   ]
  },
  {
   "cell_type": "code",
   "execution_count": null,
   "metadata": {},
   "outputs": [],
   "source": []
  },
  {
   "cell_type": "code",
   "execution_count": 21,
   "metadata": {},
   "outputs": [],
   "source": [
    "obj = BenchmarkIndex(ret_series,date_series)"
   ]
  },
  {
   "cell_type": "code",
   "execution_count": 22,
   "metadata": {
    "scrolled": true
   },
   "outputs": [],
   "source": [
    "index_comparison = obj.sp500_index_comparison(ret=True)"
   ]
  },
  {
   "cell_type": "code",
   "execution_count": 23,
   "metadata": {},
   "outputs": [],
   "source": [
    "obj_3 = ModelFreeEvaluation(index_comparison['sp500'],index_comparison['date'])"
   ]
  },
  {
   "cell_type": "code",
   "execution_count": 24,
   "metadata": {},
   "outputs": [],
   "source": [
    "sharpe_3 = obj_3.sharpe_ratio(annul_freq=12,rf=0.0016)"
   ]
  },
  {
   "cell_type": "code",
   "execution_count": 28,
   "metadata": {},
   "outputs": [],
   "source": [
    "cum_ret_3 = obj_3.cum_ret_calculation()"
   ]
  },
  {
   "cell_type": "code",
   "execution_count": 33,
   "metadata": {},
   "outputs": [],
   "source": [
    "dd3, mdd3, ddd3 = obj_3.drawdown_calculation()"
   ]
  },
  {
   "cell_type": "code",
   "execution_count": 38,
   "metadata": {},
   "outputs": [
    {
     "ename": "ValueError",
     "evalue": "Length of values does not match length of index",
     "output_type": "error",
     "traceback": [
      "\u001b[0;31m---------------------------------------------------------------------------\u001b[0m",
      "\u001b[0;31mValueError\u001b[0m                                Traceback (most recent call last)",
      "\u001b[0;32m<ipython-input-38-f3d76c9cc11b>\u001b[0m in \u001b[0;36m<module>\u001b[0;34m\u001b[0m\n\u001b[1;32m      1\u001b[0m \u001b[0mfinal_return_df\u001b[0m\u001b[0;34m[\u001b[0m\u001b[0;34m'cum_ret_3'\u001b[0m\u001b[0;34m]\u001b[0m\u001b[0;34m=\u001b[0m\u001b[0mcum_ret_3\u001b[0m\u001b[0;34m\u001b[0m\u001b[0;34m\u001b[0m\u001b[0m\n\u001b[0;32m----> 2\u001b[0;31m \u001b[0mfinal_return_df\u001b[0m\u001b[0;34m[\u001b[0m\u001b[0;34m'dd3'\u001b[0m\u001b[0;34m]\u001b[0m \u001b[0;34m=\u001b[0m \u001b[0mdd3\u001b[0m\u001b[0;34m\u001b[0m\u001b[0;34m\u001b[0m\u001b[0m\n\u001b[0m",
      "\u001b[0;32m~/opt/anaconda3/lib/python3.7/site-packages/pandas/core/frame.py\u001b[0m in \u001b[0;36m__setitem__\u001b[0;34m(self, key, value)\u001b[0m\n\u001b[1;32m   3470\u001b[0m         \u001b[0;32melse\u001b[0m\u001b[0;34m:\u001b[0m\u001b[0;34m\u001b[0m\u001b[0;34m\u001b[0m\u001b[0m\n\u001b[1;32m   3471\u001b[0m             \u001b[0;31m# set column\u001b[0m\u001b[0;34m\u001b[0m\u001b[0;34m\u001b[0m\u001b[0;34m\u001b[0m\u001b[0m\n\u001b[0;32m-> 3472\u001b[0;31m             \u001b[0mself\u001b[0m\u001b[0;34m.\u001b[0m\u001b[0m_set_item\u001b[0m\u001b[0;34m(\u001b[0m\u001b[0mkey\u001b[0m\u001b[0;34m,\u001b[0m \u001b[0mvalue\u001b[0m\u001b[0;34m)\u001b[0m\u001b[0;34m\u001b[0m\u001b[0;34m\u001b[0m\u001b[0m\n\u001b[0m\u001b[1;32m   3473\u001b[0m \u001b[0;34m\u001b[0m\u001b[0m\n\u001b[1;32m   3474\u001b[0m     \u001b[0;32mdef\u001b[0m \u001b[0m_setitem_slice\u001b[0m\u001b[0;34m(\u001b[0m\u001b[0mself\u001b[0m\u001b[0;34m,\u001b[0m \u001b[0mkey\u001b[0m\u001b[0;34m,\u001b[0m \u001b[0mvalue\u001b[0m\u001b[0;34m)\u001b[0m\u001b[0;34m:\u001b[0m\u001b[0;34m\u001b[0m\u001b[0;34m\u001b[0m\u001b[0m\n",
      "\u001b[0;32m~/opt/anaconda3/lib/python3.7/site-packages/pandas/core/frame.py\u001b[0m in \u001b[0;36m_set_item\u001b[0;34m(self, key, value)\u001b[0m\n\u001b[1;32m   3547\u001b[0m \u001b[0;34m\u001b[0m\u001b[0m\n\u001b[1;32m   3548\u001b[0m         \u001b[0mself\u001b[0m\u001b[0;34m.\u001b[0m\u001b[0m_ensure_valid_index\u001b[0m\u001b[0;34m(\u001b[0m\u001b[0mvalue\u001b[0m\u001b[0;34m)\u001b[0m\u001b[0;34m\u001b[0m\u001b[0;34m\u001b[0m\u001b[0m\n\u001b[0;32m-> 3549\u001b[0;31m         \u001b[0mvalue\u001b[0m \u001b[0;34m=\u001b[0m \u001b[0mself\u001b[0m\u001b[0;34m.\u001b[0m\u001b[0m_sanitize_column\u001b[0m\u001b[0;34m(\u001b[0m\u001b[0mkey\u001b[0m\u001b[0;34m,\u001b[0m \u001b[0mvalue\u001b[0m\u001b[0;34m)\u001b[0m\u001b[0;34m\u001b[0m\u001b[0;34m\u001b[0m\u001b[0m\n\u001b[0m\u001b[1;32m   3550\u001b[0m         \u001b[0mNDFrame\u001b[0m\u001b[0;34m.\u001b[0m\u001b[0m_set_item\u001b[0m\u001b[0;34m(\u001b[0m\u001b[0mself\u001b[0m\u001b[0;34m,\u001b[0m \u001b[0mkey\u001b[0m\u001b[0;34m,\u001b[0m \u001b[0mvalue\u001b[0m\u001b[0;34m)\u001b[0m\u001b[0;34m\u001b[0m\u001b[0;34m\u001b[0m\u001b[0m\n\u001b[1;32m   3551\u001b[0m \u001b[0;34m\u001b[0m\u001b[0m\n",
      "\u001b[0;32m~/opt/anaconda3/lib/python3.7/site-packages/pandas/core/frame.py\u001b[0m in \u001b[0;36m_sanitize_column\u001b[0;34m(self, key, value, broadcast)\u001b[0m\n\u001b[1;32m   3732\u001b[0m \u001b[0;34m\u001b[0m\u001b[0m\n\u001b[1;32m   3733\u001b[0m             \u001b[0;31m# turn me into an ndarray\u001b[0m\u001b[0;34m\u001b[0m\u001b[0;34m\u001b[0m\u001b[0;34m\u001b[0m\u001b[0m\n\u001b[0;32m-> 3734\u001b[0;31m             \u001b[0mvalue\u001b[0m \u001b[0;34m=\u001b[0m \u001b[0msanitize_index\u001b[0m\u001b[0;34m(\u001b[0m\u001b[0mvalue\u001b[0m\u001b[0;34m,\u001b[0m \u001b[0mself\u001b[0m\u001b[0;34m.\u001b[0m\u001b[0mindex\u001b[0m\u001b[0;34m,\u001b[0m \u001b[0mcopy\u001b[0m\u001b[0;34m=\u001b[0m\u001b[0;32mFalse\u001b[0m\u001b[0;34m)\u001b[0m\u001b[0;34m\u001b[0m\u001b[0;34m\u001b[0m\u001b[0m\n\u001b[0m\u001b[1;32m   3735\u001b[0m             \u001b[0;32mif\u001b[0m \u001b[0;32mnot\u001b[0m \u001b[0misinstance\u001b[0m\u001b[0;34m(\u001b[0m\u001b[0mvalue\u001b[0m\u001b[0;34m,\u001b[0m \u001b[0;34m(\u001b[0m\u001b[0mnp\u001b[0m\u001b[0;34m.\u001b[0m\u001b[0mndarray\u001b[0m\u001b[0;34m,\u001b[0m \u001b[0mIndex\u001b[0m\u001b[0;34m)\u001b[0m\u001b[0;34m)\u001b[0m\u001b[0;34m:\u001b[0m\u001b[0;34m\u001b[0m\u001b[0;34m\u001b[0m\u001b[0m\n\u001b[1;32m   3736\u001b[0m                 \u001b[0;32mif\u001b[0m \u001b[0misinstance\u001b[0m\u001b[0;34m(\u001b[0m\u001b[0mvalue\u001b[0m\u001b[0;34m,\u001b[0m \u001b[0mlist\u001b[0m\u001b[0;34m)\u001b[0m \u001b[0;32mand\u001b[0m \u001b[0mlen\u001b[0m\u001b[0;34m(\u001b[0m\u001b[0mvalue\u001b[0m\u001b[0;34m)\u001b[0m \u001b[0;34m>\u001b[0m \u001b[0;36m0\u001b[0m\u001b[0;34m:\u001b[0m\u001b[0;34m\u001b[0m\u001b[0;34m\u001b[0m\u001b[0m\n",
      "\u001b[0;32m~/opt/anaconda3/lib/python3.7/site-packages/pandas/core/internals/construction.py\u001b[0m in \u001b[0;36msanitize_index\u001b[0;34m(data, index, copy)\u001b[0m\n\u001b[1;32m    610\u001b[0m \u001b[0;34m\u001b[0m\u001b[0m\n\u001b[1;32m    611\u001b[0m     \u001b[0;32mif\u001b[0m \u001b[0mlen\u001b[0m\u001b[0;34m(\u001b[0m\u001b[0mdata\u001b[0m\u001b[0;34m)\u001b[0m \u001b[0;34m!=\u001b[0m \u001b[0mlen\u001b[0m\u001b[0;34m(\u001b[0m\u001b[0mindex\u001b[0m\u001b[0;34m)\u001b[0m\u001b[0;34m:\u001b[0m\u001b[0;34m\u001b[0m\u001b[0;34m\u001b[0m\u001b[0m\n\u001b[0;32m--> 612\u001b[0;31m         \u001b[0;32mraise\u001b[0m \u001b[0mValueError\u001b[0m\u001b[0;34m(\u001b[0m\u001b[0;34m\"Length of values does not match length of index\"\u001b[0m\u001b[0;34m)\u001b[0m\u001b[0;34m\u001b[0m\u001b[0;34m\u001b[0m\u001b[0m\n\u001b[0m\u001b[1;32m    613\u001b[0m \u001b[0;34m\u001b[0m\u001b[0m\n\u001b[1;32m    614\u001b[0m     \u001b[0;32mif\u001b[0m \u001b[0misinstance\u001b[0m\u001b[0;34m(\u001b[0m\u001b[0mdata\u001b[0m\u001b[0;34m,\u001b[0m \u001b[0mABCIndexClass\u001b[0m\u001b[0;34m)\u001b[0m \u001b[0;32mand\u001b[0m \u001b[0;32mnot\u001b[0m \u001b[0mcopy\u001b[0m\u001b[0;34m:\u001b[0m\u001b[0;34m\u001b[0m\u001b[0;34m\u001b[0m\u001b[0m\n",
      "\u001b[0;31mValueError\u001b[0m: Length of values does not match length of index"
     ]
    }
   ],
   "source": [
    "final_return_df['cum_ret_3']=cum_ret_3"
   ]
  },
  {
   "cell_type": "code",
   "execution_count": 47,
   "metadata": {},
   "outputs": [
    {
     "data": {
      "image/png": "[encoded data removed]",
      "text/plain": [
       "<Figure size 1440x720 with 1 Axes>"
      ]
     },
     "metadata": {
      "needs_background": "light"
     },
     "output_type": "display_data"
    }
   ],
   "source": [
    "plot_multiple_series(final_return_df,\"date\", [\"cum_ret_1\",\"cum_ret_3\"])"
   ]
  },
  {
   "cell_type": "code",
   "execution_count": 40,
   "metadata": {},
   "outputs": [
    {
     "data": {
      "text/html": [
       "<div>\n",
       "<style scoped>\n",
       "    .dataframe tbody tr th:only-of-type {\n",
       "        vertical-align: middle;\n",
       "    }\n",
       "\n",
       "    .dataframe tbody tr th {\n",
       "        vertical-align: top;\n",
       "    }\n",
       "\n",
       "    .dataframe thead th {\n",
       "        text-align: right;\n",
       "    }\n",
       "</style>\n",
       "<table border=\"1\" class=\"dataframe\">\n",
       "  <thead>\n",
       "    <tr style=\"text-align: right;\">\n",
       "      <th></th>\n",
       "      <th>benchmark_return</th>\n",
       "      <th>date</th>\n",
       "      <th>strategy_return</th>\n",
       "      <th>cum_ret_1</th>\n",
       "      <th>cum_ret_2</th>\n",
       "      <th>dd1</th>\n",
       "      <th>dd2</th>\n",
       "      <th>cum_ret_3</th>\n",
       "    </tr>\n",
       "  </thead>\n",
       "  <tbody>\n",
       "    <tr>\n",
       "      <td>0</td>\n",
       "      <td>0.065295</td>\n",
       "      <td>2010-04-30</td>\n",
       "      <td>0.068302</td>\n",
       "      <td>1.068302</td>\n",
       "      <td>1.065295</td>\n",
       "      <td>0.000000</td>\n",
       "      <td>0.000000</td>\n",
       "      <td>NaN</td>\n",
       "    </tr>\n",
       "    <tr>\n",
       "      <td>1</td>\n",
       "      <td>-0.098886</td>\n",
       "      <td>2010-05-31</td>\n",
       "      <td>-0.100168</td>\n",
       "      <td>0.961292</td>\n",
       "      <td>0.959952</td>\n",
       "      <td>-0.038708</td>\n",
       "      <td>-0.040048</td>\n",
       "      <td>0.918024</td>\n",
       "    </tr>\n",
       "    <tr>\n",
       "      <td>2</td>\n",
       "      <td>-0.098083</td>\n",
       "      <td>2010-06-30</td>\n",
       "      <td>-0.093734</td>\n",
       "      <td>0.871186</td>\n",
       "      <td>0.865797</td>\n",
       "      <td>-0.128814</td>\n",
       "      <td>-0.134203</td>\n",
       "      <td>0.868559</td>\n",
       "    </tr>\n",
       "    <tr>\n",
       "      <td>3</td>\n",
       "      <td>0.073255</td>\n",
       "      <td>2010-07-30</td>\n",
       "      <td>0.074228</td>\n",
       "      <td>0.935852</td>\n",
       "      <td>0.929221</td>\n",
       "      <td>-0.064148</td>\n",
       "      <td>-0.070779</td>\n",
       "      <td>0.928296</td>\n",
       "    </tr>\n",
       "    <tr>\n",
       "      <td>4</td>\n",
       "      <td>-0.023605</td>\n",
       "      <td>2010-08-31</td>\n",
       "      <td>-0.024075</td>\n",
       "      <td>0.913322</td>\n",
       "      <td>0.907287</td>\n",
       "      <td>-0.086678</td>\n",
       "      <td>-0.092713</td>\n",
       "      <td>0.884249</td>\n",
       "    </tr>\n",
       "    <tr>\n",
       "      <td>...</td>\n",
       "      <td>...</td>\n",
       "      <td>...</td>\n",
       "      <td>...</td>\n",
       "      <td>...</td>\n",
       "      <td>...</td>\n",
       "      <td>...</td>\n",
       "      <td>...</td>\n",
       "      <td>...</td>\n",
       "    </tr>\n",
       "    <tr>\n",
       "      <td>95</td>\n",
       "      <td>0.033756</td>\n",
       "      <td>2018-03-30</td>\n",
       "      <td>0.041484</td>\n",
       "      <td>2.813758</td>\n",
       "      <td>2.365889</td>\n",
       "      <td>-0.030904</td>\n",
       "      <td>-0.075736</td>\n",
       "      <td>2.225408</td>\n",
       "    </tr>\n",
       "    <tr>\n",
       "      <td>96</td>\n",
       "      <td>0.013364</td>\n",
       "      <td>2018-04-30</td>\n",
       "      <td>0.018841</td>\n",
       "      <td>2.866773</td>\n",
       "      <td>2.397506</td>\n",
       "      <td>-0.012645</td>\n",
       "      <td>-0.063384</td>\n",
       "      <td>2.231459</td>\n",
       "    </tr>\n",
       "    <tr>\n",
       "      <td>97</td>\n",
       "      <td>0.023510</td>\n",
       "      <td>2018-05-31</td>\n",
       "      <td>0.016843</td>\n",
       "      <td>2.915058</td>\n",
       "      <td>2.453870</td>\n",
       "      <td>0.000000</td>\n",
       "      <td>-0.041365</td>\n",
       "      <td>2.279677</td>\n",
       "    </tr>\n",
       "    <tr>\n",
       "      <td>98</td>\n",
       "      <td>-0.003260</td>\n",
       "      <td>2018-06-29</td>\n",
       "      <td>0.000264</td>\n",
       "      <td>2.915827</td>\n",
       "      <td>2.445870</td>\n",
       "      <td>0.000000</td>\n",
       "      <td>-0.044491</td>\n",
       "      <td>2.290716</td>\n",
       "    </tr>\n",
       "    <tr>\n",
       "      <td>99</td>\n",
       "      <td>0.032642</td>\n",
       "      <td>2018-07-31</td>\n",
       "      <td>0.023723</td>\n",
       "      <td>2.985001</td>\n",
       "      <td>2.525707</td>\n",
       "      <td>0.000000</td>\n",
       "      <td>-0.013301</td>\n",
       "      <td>2.373231</td>\n",
       "    </tr>\n",
       "  </tbody>\n",
       "</table>\n",
       "<p>100 rows × 8 columns</p>\n",
       "</div>"
      ],
      "text/plain": [
       "    benchmark_return       date  strategy_return  cum_ret_1  cum_ret_2  \\\n",
       "0           0.065295 2010-04-30         0.068302   1.068302   1.065295   \n",
       "1          -0.098886 2010-05-31        -0.100168   0.961292   0.959952   \n",
       "2          -0.098083 2010-06-30        -0.093734   0.871186   0.865797   \n",
       "3           0.073255 2010-07-30         0.074228   0.935852   0.929221   \n",
       "4          -0.023605 2010-08-31        -0.024075   0.913322   0.907287   \n",
       "..               ...        ...              ...        ...        ...   \n",
       "95          0.033756 2018-03-30         0.041484   2.813758   2.365889   \n",
       "96          0.013364 2018-04-30         0.018841   2.866773   2.397506   \n",
       "97          0.023510 2018-05-31         0.016843   2.915058   2.453870   \n",
       "98         -0.003260 2018-06-29         0.000264   2.915827   2.445870   \n",
       "99          0.032642 2018-07-31         0.023723   2.985001   2.525707   \n",
       "\n",
       "         dd1       dd2  cum_ret_3  \n",
       "0   0.000000  0.000000        NaN  \n",
       "1  -0.038708 -0.040048   0.918024  \n",
       "2  -0.128814 -0.134203   0.868559  \n",
       "3  -0.064148 -0.070779   0.928296  \n",
       "4  -0.086678 -0.092713   0.884249  \n",
       "..       ...       ...        ...  \n",
       "95 -0.030904 -0.075736   2.225408  \n",
       "96 -0.012645 -0.063384   2.231459  \n",
       "97  0.000000 -0.041365   2.279677  \n",
       "98  0.000000 -0.044491   2.290716  \n",
       "99  0.000000 -0.013301   2.373231  \n",
       "\n",
       "[100 rows x 8 columns]"
      ]
     },
     "execution_count": 40,
     "metadata": {},
     "output_type": "execute_result"
    }
   ],
   "source": [
    "final_return_df"
   ]
  },
  {
   "cell_type": "code",
   "execution_count": null,
   "metadata": {},
   "outputs": [],
   "source": []
  }
 ],
 "metadata": {
  "kernelspec": {
   "display_name": "Python 3",
   "language": "python",
   "name": "python3"
  },
  "language_info": {
   "codemirror_mode": {
    "name": "ipython",
    "version": 3
   },
   "file_extension": ".py",
   "mimetype": "text/x-python",
   "name": "python",
   "nbconvert_exporter": "python",
   "pygments_lexer": "ipython3",
   "version": "3.6.8"
  }
 },
 "nbformat": 4,
 "nbformat_minor": 2
}
